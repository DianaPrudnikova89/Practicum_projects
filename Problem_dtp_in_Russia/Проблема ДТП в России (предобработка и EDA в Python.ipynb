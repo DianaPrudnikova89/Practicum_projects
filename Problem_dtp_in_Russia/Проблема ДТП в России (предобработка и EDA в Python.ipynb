{
 "cells": [
  {
   "cell_type": "markdown",
   "id": "86c841f3",
   "metadata": {},
   "source": [
    "# \"Проблема ДТП в России.\"\n",
    "\n",
    "- Автор: Прудникова Диана\n",
    "- Дата: 16.03.2025\n",
    "\n",
    "### Цель и задачи проекта.\n",
    "\n",
    "**Цель проекта:** повышение безопасности на дорогах.\n",
    "\n",
    "**Задачи проекта:**\n",
    " - познакомиться и провести предобработку исходных данных,\n",
    " - провести исследовательский анализ данных:\n",
    "  - определить как менялось число ДТП по временным промежуткам;\n",
    "  - определить различается ли число ДТП для групп водителей с разным стажем,\n",
    "  - проанализировать, как менялось число аварий по годам в Кировской и Московской областях,\n",
    " - сформулировать итоговый вывод и дать рекомендации по повышению качества сбора данных.\n",
    " \n",
    
    "### Содержимое проекта \n",
    "\n",
    "   1. Проверка ошибок в данных и их предобработка:\n",
    "    - загрузка и знакомство с данными,\n",
    "    - замена названий (меток) столбцов на оптимальные для работы,\n",
    "    - подсчет пропусков в данных,\n",
    "    - подсчет пропусков в данных,\n",
    "    - наличие явных и неявных дубликатов в данных,\n",
    "    - проверка корректности типов данных.\n",
    "   2. Исследовательский анализ данных:\n",
    "    - какое число ДТП случилось в каждый день недели. Разбивка числа происшествий по месяцам,\n",
    "    - категории водителей по стажу,\n",
    "    - как менялось число аварий в Кировской и Московской области по годам. Где аварий больше в относительном выражении — в пересчёте на 100 тысяч жителей.\n",
    "   3. Итоговые выводы.\n",
    "   4. Рекомендации.\n",
    "     </font>"
   ]
  
  {
   "cell_type": "markdown",
   "id": "8381ae8d",
   "metadata": {},
   "source": [
    "# Проверка ошибок в данных и их предобработка\n",
    "\n",
    "###  Загрузка и знакомство с данными.\n",
    "Выгрузим необходимые библиотеки."
   ]
  },
  {
   "cell_type": "code",
   "execution_count": 4,
   "id": "f4b2bcf3",
   "metadata": {},
   "outputs": [],
   "source": [
    "# Импортируем библиотеку pandas\n",
    "import pandas as pd"
   ]
  },
  {
   "cell_type": "markdown",
   "id": "2973f343",
   "metadata": {},
   "source": 
  },
  {
   "cell_type": "markdown",
   "id": "4805b568",
   "metadata": {},
   "source": [
    "Познакомимся с исходными данными таблиц, выведим на экран общую информацию и первые строки датафреймов `df_k` и `df_m`. "
   ]
  },
  {
   "cell_type": "code",
   "execution_count": 6,
   "id": "ec1e548c",
   "metadata": {},
   "outputs": [
    {
     "name": "stdout",
     "output_type": "stream",
     "text": [
      "<class 'pandas.core.frame.DataFrame'>\n",
      "RangeIndex: 14517 entries, 0 to 14516\n",
      "Data columns (total 18 columns):\n",
      " #   Column                             Non-Null Count  Dtype  \n",
      "---  ------                             --------------  -----  \n",
      " 0   geometry.coordinates               14517 non-null  object \n",
      " 1   id                                 14517 non-null  int64  \n",
      " 2   properties.tags                    14517 non-null  object \n",
      " 3   properties.light                   14517 non-null  object \n",
      " 4   properties.point.lat               14485 non-null  float64\n",
      " 5   properties.point.long              14485 non-null  float64\n",
      " 6   properties.nearby                  14517 non-null  object \n",
      " 7   properties.region                  14517 non-null  object \n",
      " 8   properties.scheme                  13380 non-null  float64\n",
      " 9   properties.address                 13843 non-null  object \n",
      " 10  properties.weather                 14517 non-null  object \n",
      " 11  properties.category                14517 non-null  object \n",
      " 12  properties.datetime                14517 non-null  object \n",
      " 13  properties.injured_count           14517 non-null  int64  \n",
      " 14  properties.parent_region           14517 non-null  object \n",
      " 15  properties.road_conditions         14517 non-null  object \n",
      " 16  properties.participants_count      14517 non-null  int64  \n",
      " 17  properties.participant_categories  14517 non-null  object \n",
      "dtypes: float64(3), int64(3), object(12)\n",
      "memory usage: 2.0+ MB\n",
      "<class 'pandas.core.frame.DataFrame'>\n",
      "RangeIndex: 45618 entries, 0 to 45617\n",
      "Data columns (total 18 columns):\n",
      " #   Column                             Non-Null Count  Dtype  \n",
      "---  ------                             --------------  -----  \n",
      " 0   geometry.coordinates               45618 non-null  object \n",
      " 1   id                                 45618 non-null  int64  \n",
      " 2   properties.tags                    45618 non-null  object \n",
      " 3   properties.light                   45618 non-null  object \n",
      " 4   properties.point.lat               45615 non-null  float64\n",
      " 5   properties.point.long              45615 non-null  float64\n",
      " 6   properties.nearby                  45618 non-null  object \n",
      " 7   properties.region                  45618 non-null  object \n",
      " 8   properties.scheme                  44235 non-null  float64\n",
      " 9   properties.address                 43862 non-null  object \n",
      " 10  properties.weather                 45618 non-null  object \n",
      " 11  properties.category                45618 non-null  object \n",
      " 12  properties.datetime                45618 non-null  object \n",
      " 13  properties.injured_count           45618 non-null  int64  \n",
      " 14  properties.parent_region           45618 non-null  object \n",
      " 15  properties.road_conditions         45618 non-null  object \n",
      " 16  properties.participants_count      45618 non-null  int64  \n",
      " 17  properties.participant_categories  45618 non-null  object \n",
      "dtypes: float64(3), int64(3), object(12)\n",
      "memory usage: 6.3+ MB\n"
     ]
    },
    {
     "data": {
      "text/html": [
       "<div>\n",
       "<style scoped>\n",
       "    .dataframe tbody tr th:only-of-type {\n",
       "        vertical-align: middle;\n",
       "    }\n",
       "\n",
       "    .dataframe tbody tr th {\n",
       "        vertical-align: top;\n",
       "    }\n",
       "\n",
       "    .dataframe thead th {\n",
       "        text-align: right;\n",
       "    }\n",
       "</style>\n",
       "<table border=\"1\" class=\"dataframe\">\n",
       "  <thead>\n",
       "    <tr style=\"text-align: right;\">\n",
       "      <th></th>\n",
       "      <th>geometry.coordinates</th>\n",
       "      <th>id</th>\n",
       "      <th>properties.tags</th>\n",
       "      <th>properties.light</th>\n",
       "      <th>properties.point.lat</th>\n",
       "      <th>properties.point.long</th>\n",
       "      <th>properties.nearby</th>\n",
       "      <th>properties.region</th>\n",
       "      <th>properties.scheme</th>\n",
       "      <th>properties.address</th>\n",
       "      <th>properties.weather</th>\n",
       "      <th>properties.category</th>\n",
       "      <th>properties.datetime</th>\n",
       "      <th>properties.injured_count</th>\n",
       "      <th>properties.parent_region</th>\n",
       "      <th>properties.road_conditions</th>\n",
       "      <th>properties.participants_count</th>\n",
       "      <th>properties.participant_categories</th>\n",
       "    </tr>\n",
       "  </thead>\n",
       "  <tbody>\n",
       "    <tr>\n",
       "      <th>0</th>\n",
       "      <td>[47.875603, 57.24379]</td>\n",
       "      <td>1983180</td>\n",
       "      <td>Дорожно-транспортные происшествия</td>\n",
       "      <td>Светлое время суток</td>\n",
       "      <td>57.243790</td>\n",
       "      <td>47.875603</td>\n",
       "      <td>[]</td>\n",
       "      <td>Яранский район</td>\n",
       "      <td>600.0</td>\n",
       "      <td>Р-176 Вятка Чебоксары - Йошкар-Ола - Киров - С...</td>\n",
       "      <td>['Дождь']</td>\n",
       "      <td>Опрокидывание</td>\n",
       "      <td>2017-07-01 18:00:00</td>\n",
       "      <td>1</td>\n",
       "      <td>Кировская область</td>\n",
       "      <td>['Мокрое']</td>\n",
       "      <td>3</td>\n",
       "      <td>['Все участники']</td>\n",
       "    </tr>\n",
       "    <tr>\n",
       "      <th>1</th>\n",
       "      <td>[47.87903, 57.304807]</td>\n",
       "      <td>2889433</td>\n",
       "      <td>Дорожно-транспортные происшествия</td>\n",
       "      <td>Светлое время суток</td>\n",
       "      <td>57.304807</td>\n",
       "      <td>47.879030</td>\n",
       "      <td>['Административные здания', 'Нерегулируемый пе...</td>\n",
       "      <td>Яранский район</td>\n",
       "      <td>710.0</td>\n",
       "      <td>г Яранск, ул Кирова, 10</td>\n",
       "      <td>['Ясно']</td>\n",
       "      <td>Наезд на пешехода</td>\n",
       "      <td>2023-09-12 17:10:00</td>\n",
       "      <td>1</td>\n",
       "      <td>Кировская область</td>\n",
       "      <td>['Сухое', 'Отсутствие, плохая различимость гор...</td>\n",
       "      <td>2</td>\n",
       "      <td>['Все участники', 'Пешеходы']</td>\n",
       "    </tr>\n",
       "    <tr>\n",
       "      <th>2</th>\n",
       "      <td>[47.840781, 57.297156]</td>\n",
       "      <td>2591208</td>\n",
       "      <td>Дорожно-транспортные происшествия</td>\n",
       "      <td>Сумерки</td>\n",
       "      <td>57.297156</td>\n",
       "      <td>47.840781</td>\n",
       "      <td>['Жилые дома индивидуальной застройки', 'Нерег...</td>\n",
       "      <td>Яранский район</td>\n",
       "      <td>NaN</td>\n",
       "      <td>г Яранск, ул Чапаева, 80</td>\n",
       "      <td>['Пасмурно']</td>\n",
       "      <td>Съезд с дороги</td>\n",
       "      <td>2021-07-02 21:25:00</td>\n",
       "      <td>1</td>\n",
       "      <td>Кировская область</td>\n",
       "      <td>['Мокрое']</td>\n",
       "      <td>1</td>\n",
       "      <td>['Все участники']</td>\n",
       "    </tr>\n",
       "    <tr>\n",
       "      <th>3</th>\n",
       "      <td>[47.834365, 57.244775]</td>\n",
       "      <td>2577639</td>\n",
       "      <td>Дорожно-транспортные происшествия</td>\n",
       "      <td>Светлое время суток</td>\n",
       "      <td>57.244775</td>\n",
       "      <td>47.834365</td>\n",
       "      <td>['Жилые дома индивидуальной застройки']</td>\n",
       "      <td>Яранский район</td>\n",
       "      <td>200.0</td>\n",
       "      <td>м Знаменка, ул Кирова, 15</td>\n",
       "      <td>['Пасмурно']</td>\n",
       "      <td>Столкновение</td>\n",
       "      <td>2021-05-31 18:55:00</td>\n",
       "      <td>1</td>\n",
       "      <td>Кировская область</td>\n",
       "      <td>['Сухое']</td>\n",
       "      <td>2</td>\n",
       "      <td>['Все участники', 'Мотоциклисты']</td>\n",
       "    </tr>\n",
       "    <tr>\n",
       "      <th>4</th>\n",
       "      <td>[47.968197, 57.357738]</td>\n",
       "      <td>1981026</td>\n",
       "      <td>Дорожно-транспортные происшествия</td>\n",
       "      <td>Светлое время суток</td>\n",
       "      <td>57.357738</td>\n",
       "      <td>47.968197</td>\n",
       "      <td>['Нерегулируемый перекрёсток неравнозначных ул...</td>\n",
       "      <td>Яранский район</td>\n",
       "      <td>NaN</td>\n",
       "      <td>с/п Никольское, Киров-Советск- Яранск - подъез...</td>\n",
       "      <td>['Ясно']</td>\n",
       "      <td>Опрокидывание</td>\n",
       "      <td>2018-05-16 16:25:00</td>\n",
       "      <td>2</td>\n",
       "      <td>Кировская область</td>\n",
       "      <td>['Сухое', 'Отсутствие, плохая различимость гор...</td>\n",
       "      <td>2</td>\n",
       "      <td>['Все участники']</td>\n",
       "    </tr>\n",
       "  </tbody>\n",
       "</table>\n",
       "</div>"
      ],
      "text/plain": [
       "     geometry.coordinates       id                    properties.tags  \\\n",
       "0   [47.875603, 57.24379]  1983180  Дорожно-транспортные происшествия   \n",
       "1   [47.87903, 57.304807]  2889433  Дорожно-транспортные происшествия   \n",
       "2  [47.840781, 57.297156]  2591208  Дорожно-транспортные происшествия   \n",
       "3  [47.834365, 57.244775]  2577639  Дорожно-транспортные происшествия   \n",
       "4  [47.968197, 57.357738]  1981026  Дорожно-транспортные происшествия   \n",
       "\n",
       "      properties.light  properties.point.lat  properties.point.long  \\\n",
       "0  Светлое время суток             57.243790              47.875603   \n",
       "1  Светлое время суток             57.304807              47.879030   \n",
       "2              Сумерки             57.297156              47.840781   \n",
       "3  Светлое время суток             57.244775              47.834365   \n",
       "4  Светлое время суток             57.357738              47.968197   \n",
       "\n",
       "                                   properties.nearby properties.region  \\\n",
       "0                                                 []    Яранский район   \n",
       "1  ['Административные здания', 'Нерегулируемый пе...    Яранский район   \n",
       "2  ['Жилые дома индивидуальной застройки', 'Нерег...    Яранский район   \n",
       "3            ['Жилые дома индивидуальной застройки']    Яранский район   \n",
       "4  ['Нерегулируемый перекрёсток неравнозначных ул...    Яранский район   \n",
       "\n",
       "   properties.scheme                                 properties.address  \\\n",
       "0              600.0  Р-176 Вятка Чебоксары - Йошкар-Ола - Киров - С...   \n",
       "1              710.0                            г Яранск, ул Кирова, 10   \n",
       "2                NaN                           г Яранск, ул Чапаева, 80   \n",
       "3              200.0                          м Знаменка, ул Кирова, 15   \n",
       "4                NaN  с/п Никольское, Киров-Советск- Яранск - подъез...   \n",
       "\n",
       "  properties.weather properties.category  properties.datetime  \\\n",
       "0          ['Дождь']       Опрокидывание  2017-07-01 18:00:00   \n",
       "1           ['Ясно']   Наезд на пешехода  2023-09-12 17:10:00   \n",
       "2       ['Пасмурно']      Съезд с дороги  2021-07-02 21:25:00   \n",
       "3       ['Пасмурно']        Столкновение  2021-05-31 18:55:00   \n",
       "4           ['Ясно']       Опрокидывание  2018-05-16 16:25:00   \n",
       "\n",
       "   properties.injured_count properties.parent_region  \\\n",
       "0                         1        Кировская область   \n",
       "1                         1        Кировская область   \n",
       "2                         1        Кировская область   \n",
       "3                         1        Кировская область   \n",
       "4                         2        Кировская область   \n",
       "\n",
       "                          properties.road_conditions  \\\n",
       "0                                         ['Мокрое']   \n",
       "1  ['Сухое', 'Отсутствие, плохая различимость гор...   \n",
       "2                                         ['Мокрое']   \n",
       "3                                          ['Сухое']   \n",
       "4  ['Сухое', 'Отсутствие, плохая различимость гор...   \n",
       "\n",
       "   properties.participants_count  properties.participant_categories  \n",
       "0                              3                  ['Все участники']  \n",
       "1                              2      ['Все участники', 'Пешеходы']  \n",
       "2                              1                  ['Все участники']  \n",
       "3                              2  ['Все участники', 'Мотоциклисты']  \n",
       "4                              2                  ['Все участники']  "
      ]
     },
     "metadata": {},
     "output_type": "display_data"
    },
    {
     "data": {
      "text/html": [
       "<div>\n",
       "<style scoped>\n",
       "    .dataframe tbody tr th:only-of-type {\n",
       "        vertical-align: middle;\n",
       "    }\n",
       "\n",
       "    .dataframe tbody tr th {\n",
       "        vertical-align: top;\n",
       "    }\n",
       "\n",
       "    .dataframe thead th {\n",
       "        text-align: right;\n",
       "    }\n",
       "</style>\n",
       "<table border=\"1\" class=\"dataframe\">\n",
       "  <thead>\n",
       "    <tr style=\"text-align: right;\">\n",
       "      <th></th>\n",
       "      <th>geometry.coordinates</th>\n",
       "      <th>id</th>\n",
       "      <th>properties.tags</th>\n",
       "      <th>properties.light</th>\n",
       "      <th>properties.point.lat</th>\n",
       "      <th>properties.point.long</th>\n",
       "      <th>properties.nearby</th>\n",
       "      <th>properties.region</th>\n",
       "      <th>properties.scheme</th>\n",
       "      <th>properties.address</th>\n",
       "      <th>properties.weather</th>\n",
       "      <th>properties.category</th>\n",
       "      <th>properties.datetime</th>\n",
       "      <th>properties.injured_count</th>\n",
       "      <th>properties.parent_region</th>\n",
       "      <th>properties.road_conditions</th>\n",
       "      <th>properties.participants_count</th>\n",
       "      <th>properties.participant_categories</th>\n",
       "    </tr>\n",
       "  </thead>\n",
       "  <tbody>\n",
       "    <tr>\n",
       "      <th>0</th>\n",
       "      <td>[37.5253, 55.9992]</td>\n",
       "      <td>2163589</td>\n",
       "      <td>['Дорожно-транспортные происшествия']</td>\n",
       "      <td>Светлое время суток</td>\n",
       "      <td>55.999200</td>\n",
       "      <td>37.525300</td>\n",
       "      <td>['Мост, эстакада, путепровод', 'Крупный торгов...</td>\n",
       "      <td>Мытищинский</td>\n",
       "      <td>NaN</td>\n",
       "      <td>ХЛЕБНИКОВО-РОГАЧЕВО, 0 км</td>\n",
       "      <td>['Ясно']</td>\n",
       "      <td>Столкновение</td>\n",
       "      <td>2019-01-31 09:05:00</td>\n",
       "      <td>1</td>\n",
       "      <td>Московская область</td>\n",
       "      <td>['Мокрое', 'Отсутствие, плохая различимость го...</td>\n",
       "      <td>3</td>\n",
       "      <td>['Все участники']</td>\n",
       "    </tr>\n",
       "    <tr>\n",
       "      <th>1</th>\n",
       "      <td>[37.058966, 55.788688]</td>\n",
       "      <td>2155398</td>\n",
       "      <td>['Дорожно-транспортные происшествия', 'ДТП и п...</td>\n",
       "      <td>В темное время суток, освещение включено</td>\n",
       "      <td>55.788688</td>\n",
       "      <td>37.058966</td>\n",
       "      <td>[]</td>\n",
       "      <td>Истринский</td>\n",
       "      <td>70.0</td>\n",
       "      <td>М-9 Балтия Москва - Волоколамск - граница с Ла...</td>\n",
       "      <td>['Ясно']</td>\n",
       "      <td>Столкновение</td>\n",
       "      <td>2018-09-22 05:00:00</td>\n",
       "      <td>2</td>\n",
       "      <td>Московская область</td>\n",
       "      <td>['Сухое']</td>\n",
       "      <td>4</td>\n",
       "      <td>['Все участники', 'Дети']</td>\n",
       "    </tr>\n",
       "    <tr>\n",
       "      <th>2</th>\n",
       "      <td>[37.4419, 56.0081]</td>\n",
       "      <td>2163319</td>\n",
       "      <td>['Дорожно-транспортные происшествия']</td>\n",
       "      <td>В темное время суток, освещение включено</td>\n",
       "      <td>56.008100</td>\n",
       "      <td>37.441900</td>\n",
       "      <td>['Многоквартирные жилые дома', 'Остановка обще...</td>\n",
       "      <td>Лобня</td>\n",
       "      <td>820.0</td>\n",
       "      <td>г Лобня, ул Ленина, 43</td>\n",
       "      <td>['Пасмурно']</td>\n",
       "      <td>Наезд на пешехода</td>\n",
       "      <td>2019-01-24 19:30:00</td>\n",
       "      <td>1</td>\n",
       "      <td>Московская область</td>\n",
       "      <td>['Обработанное противогололедными материалами']</td>\n",
       "      <td>2</td>\n",
       "      <td>['Все участники', 'Пешеходы']</td>\n",
       "    </tr>\n",
       "    <tr>\n",
       "      <th>3</th>\n",
       "      <td>[38.6614, 55.4358]</td>\n",
       "      <td>2143938</td>\n",
       "      <td>['Дорожно-транспортные происшествия']</td>\n",
       "      <td>Светлое время суток</td>\n",
       "      <td>55.435800</td>\n",
       "      <td>38.661400</td>\n",
       "      <td>['Регулируемый перекресток']</td>\n",
       "      <td>Воскресенский</td>\n",
       "      <td>300.0</td>\n",
       "      <td>ЖУКОВСКИЙ-РАМЕНСКОЕ-СТ.БРОННИЦЫ-ЧЕЧЕВИЛОВО-МБК...</td>\n",
       "      <td>['Ясно']</td>\n",
       "      <td>Столкновение</td>\n",
       "      <td>2018-01-25 16:00:00</td>\n",
       "      <td>2</td>\n",
       "      <td>Московская область</td>\n",
       "      <td>['Обработанное противогололедными материалами'...</td>\n",
       "      <td>3</td>\n",
       "      <td>['Все участники']</td>\n",
       "    </tr>\n",
       "    <tr>\n",
       "      <th>4</th>\n",
       "      <td>[38.29207, 55.50502]</td>\n",
       "      <td>2163390</td>\n",
       "      <td>['Дорожно-транспортные происшествия']</td>\n",
       "      <td>В темное время суток, освещение отсутствует</td>\n",
       "      <td>55.505020</td>\n",
       "      <td>38.292070</td>\n",
       "      <td>['Нерегулируемый перекрёсток неравнозначных ул...</td>\n",
       "      <td>Раменский</td>\n",
       "      <td>500.0</td>\n",
       "      <td>ММК-РАМЕНСКОЕ, 4 км</td>\n",
       "      <td>['Ясно']</td>\n",
       "      <td>Столкновение</td>\n",
       "      <td>2019-01-14 17:40:00</td>\n",
       "      <td>1</td>\n",
       "      <td>Московская область</td>\n",
       "      <td>['Обработанное противогололедными материалами']</td>\n",
       "      <td>2</td>\n",
       "      <td>['Все участники']</td>\n",
       "    </tr>\n",
       "  </tbody>\n",
       "</table>\n",
       "</div>"
      ],
      "text/plain": [
       "     geometry.coordinates       id  \\\n",
       "0      [37.5253, 55.9992]  2163589   \n",
       "1  [37.058966, 55.788688]  2155398   \n",
       "2      [37.4419, 56.0081]  2163319   \n",
       "3      [38.6614, 55.4358]  2143938   \n",
       "4    [38.29207, 55.50502]  2163390   \n",
       "\n",
       "                                     properties.tags  \\\n",
       "0              ['Дорожно-транспортные происшествия']   \n",
       "1  ['Дорожно-транспортные происшествия', 'ДТП и п...   \n",
       "2              ['Дорожно-транспортные происшествия']   \n",
       "3              ['Дорожно-транспортные происшествия']   \n",
       "4              ['Дорожно-транспортные происшествия']   \n",
       "\n",
       "                              properties.light  properties.point.lat  \\\n",
       "0                          Светлое время суток             55.999200   \n",
       "1     В темное время суток, освещение включено             55.788688   \n",
       "2     В темное время суток, освещение включено             56.008100   \n",
       "3                          Светлое время суток             55.435800   \n",
       "4  В темное время суток, освещение отсутствует             55.505020   \n",
       "\n",
       "   properties.point.long                                  properties.nearby  \\\n",
       "0              37.525300  ['Мост, эстакада, путепровод', 'Крупный торгов...   \n",
       "1              37.058966                                                 []   \n",
       "2              37.441900  ['Многоквартирные жилые дома', 'Остановка обще...   \n",
       "3              38.661400                       ['Регулируемый перекресток']   \n",
       "4              38.292070  ['Нерегулируемый перекрёсток неравнозначных ул...   \n",
       "\n",
       "  properties.region  properties.scheme  \\\n",
       "0       Мытищинский                NaN   \n",
       "1        Истринский               70.0   \n",
       "2             Лобня              820.0   \n",
       "3     Воскресенский              300.0   \n",
       "4         Раменский              500.0   \n",
       "\n",
       "                                  properties.address properties.weather  \\\n",
       "0                          ХЛЕБНИКОВО-РОГАЧЕВО, 0 км           ['Ясно']   \n",
       "1  М-9 Балтия Москва - Волоколамск - граница с Ла...           ['Ясно']   \n",
       "2                             г Лобня, ул Ленина, 43       ['Пасмурно']   \n",
       "3  ЖУКОВСКИЙ-РАМЕНСКОЕ-СТ.БРОННИЦЫ-ЧЕЧЕВИЛОВО-МБК...           ['Ясно']   \n",
       "4                                ММК-РАМЕНСКОЕ, 4 км           ['Ясно']   \n",
       "\n",
       "  properties.category  properties.datetime  properties.injured_count  \\\n",
       "0        Столкновение  2019-01-31 09:05:00                         1   \n",
       "1        Столкновение  2018-09-22 05:00:00                         2   \n",
       "2   Наезд на пешехода  2019-01-24 19:30:00                         1   \n",
       "3        Столкновение  2018-01-25 16:00:00                         2   \n",
       "4        Столкновение  2019-01-14 17:40:00                         1   \n",
       "\n",
       "  properties.parent_region                         properties.road_conditions  \\\n",
       "0       Московская область  ['Мокрое', 'Отсутствие, плохая различимость го...   \n",
       "1       Московская область                                          ['Сухое']   \n",
       "2       Московская область    ['Обработанное противогололедными материалами']   \n",
       "3       Московская область  ['Обработанное противогололедными материалами'...   \n",
       "4       Московская область    ['Обработанное противогололедными материалами']   \n",
       "\n",
       "   properties.participants_count properties.participant_categories  \n",
       "0                              3                 ['Все участники']  \n",
       "1                              4         ['Все участники', 'Дети']  \n",
       "2                              2     ['Все участники', 'Пешеходы']  \n",
       "3                              3                 ['Все участники']  \n",
       "4                              2                 ['Все участники']  "
      ]
     },
     "metadata": {},
     "output_type": "display_data"
    }
   ],
   "source": [
    "# Выводим общую информацию \n",
    "df_k.info()\n",
    "df_m.info()\n",
    "\n",
    "# Выводим первые строки\n",
    "display (df_k.head())\n",
    "display (df_m.head())"
   ]
  },
  {
   "cell_type": "markdown",
   "id": "8ae8c0a8",
   "metadata": {},
   "source": [
    "### Замена названий (меток) столбцов на оптимальные для работы.\n",
    "\n",
    "Приведем названия столбцов к стилю `snake_case`."
   ]
  },
  {
   "cell_type": "code",
   "execution_count": 7,
   "id": "a7eda29f",
   "metadata": {},
   "outputs": [
    {
     "data": {
      "text/plain": [
       "Index(['geometry_coordinates', 'id', 'properties_tags', 'properties_light',\n",
       "       'properties_point_lat', 'properties_point_long', 'properties_nearby',\n",
       "       'properties_region', 'properties_scheme', 'properties_address',\n",
       "       'properties_weather', 'properties_category', 'properties_datetime',\n",
       "       'properties_injured_count', 'properties_parent_region',\n",
       "       'properties_road_conditions', 'properties_participants_count',\n",
       "       'properties_participant_categories'],\n",
       "      dtype='object')"
      ]
     },
     "metadata": {},
     "output_type": "display_data"
    },
    {
     "data": {
      "text/plain": [
       "Index(['geometry_coordinates', 'id', 'properties_tags', 'properties_light',\n",
       "       'properties_point_lat', 'properties_point_long', 'properties_nearby',\n",
       "       'properties_region', 'properties_scheme', 'properties_address',\n",
       "       'properties_weather', 'properties_category', 'properties_datetime',\n",
       "       'properties_injured_count', 'properties_parent_region',\n",
       "       'properties_road_conditions', 'properties_participants_count',\n",
       "       'properties_participant_categories'],\n",
       "      dtype='object')"
      ]
     },
     "metadata": {},
     "output_type": "display_data"
    }
   ],
   "source": [
    "# Приведем метки столбцов к змеиному регистру - заменим '.'' на '_' \n",
    "df_k.columns = [x.replace('.', '_') for x in df_k.columns.values]\n",
    "display(df_k.columns)\n",
    "\n",
    "df_m.columns = [x.replace('.', '_') for x in df_m.columns.values]\n",
    "display(df_m.columns)"
   ]
  },
  {
   "cell_type": "markdown",
   "id": "11a19504",
   "metadata": {},
   "source": [
    "Названия столбцов успешно приведены к стилю `snake_case`. \n",
    "\n",
    "### Подсчет пропусков в данных.\n",
    "\n",
    "Посчитаем количество пропусков в датафреймах с информацией о ДТП, в абсолютном и относительном значениях."
   ]
  },
  {
   "cell_type": "code",
   "execution_count": 8,
   "id": "ac047b3a",
   "metadata": {},
   "outputs": [
    {
     "data": {
      "text/plain": [
       "properties_scheme                    1137\n",
       "properties_address                    674\n",
       "properties_point_lat                   32\n",
       "properties_point_long                  32\n",
       "properties_category                     0\n",
       "properties_participants_count           0\n",
       "properties_road_conditions              0\n",
       "properties_parent_region                0\n",
       "properties_injured_count                0\n",
       "properties_datetime                     0\n",
       "geometry_coordinates                    0\n",
       "properties_weather                      0\n",
       "id                                      0\n",
       "properties_region                       0\n",
       "properties_nearby                       0\n",
       "properties_light                        0\n",
       "properties_tags                         0\n",
       "properties_participant_categories       0\n",
       "dtype: int64"
      ]
     },
     "metadata": {},
     "output_type": "display_data"
    },
    {
     "data": {
      "text/plain": [
       "properties_scheme                    0.078\n",
       "properties_address                   0.046\n",
       "properties_point_lat                 0.002\n",
       "properties_point_long                0.002\n",
       "properties_category                  0.000\n",
       "properties_participants_count        0.000\n",
       "properties_road_conditions           0.000\n",
       "properties_parent_region             0.000\n",
       "properties_injured_count             0.000\n",
       "properties_datetime                  0.000\n",
       "geometry_coordinates                 0.000\n",
       "properties_weather                   0.000\n",
       "id                                   0.000\n",
       "properties_region                    0.000\n",
       "properties_nearby                    0.000\n",
       "properties_light                     0.000\n",
       "properties_tags                      0.000\n",
       "properties_participant_categories    0.000\n",
       "dtype: float64"
      ]
     },
     "execution_count": 8,
     "metadata": {},
     "output_type": "execute_result"
    }
   ],
   "source": [
    "# Выводим количество пропущенных строк в датафрейме df_k в абсолютном значении\n",
    "display (df_k.isna().sum().sort_values(ascending=False))\n",
    "\n",
    "# Выводим долю строк с пропусками\n",
    "round ((df_k.isna().sum() / len(df_k)),3).sort_values(ascending=False)"
   ]
  },
  {
   "cell_type": "markdown",
   "id": "cba2ae08",
   "metadata": {},
   "source": [
    "**Вывод по пропускам**. В датафрейме `df_k` максимальное количество пропусков выявлено в столбце `properties_scheme`(схема ДТП) - 7.8%, это может быть связано с тем, что авария не была зафиксирована с помощью схемы (например, не было технической возможности). Далее, `properties_address`(ближайший адрес) - 4.6%, причиной возникновения пропусков может быть ошибка геокодирования (система не смогла определить адрес по координатам). В полях с широтой и долготой доля пропусков составляет менее 1% (0.02%), в данном случае пропущенные значения могли возникнуть в связи с техническим сбоем GPS-оборудования при фиксации ДТП или редкими случаями потери данных при передаче в базу. \n",
    "\n",
    "В целом, количество пропусков некритичное, данные поля не являются ключевыми и существенного влияния на дальнейший анализ это не окажет, оставим пропуски как есть.  "
   ]
  },
  {
   "cell_type": "code",
   "execution_count": 9,
   "id": "de9602a3",
   "metadata": {},
   "outputs": [
    {
     "data": {
      "text/plain": [
       "properties_address                   1756\n",
       "properties_scheme                    1383\n",
       "properties_point_lat                    3\n",
       "properties_point_long                   3\n",
       "properties_category                     0\n",
       "properties_participants_count           0\n",
       "properties_road_conditions              0\n",
       "properties_parent_region                0\n",
       "properties_injured_count                0\n",
       "properties_datetime                     0\n",
       "geometry_coordinates                    0\n",
       "properties_weather                      0\n",
       "id                                      0\n",
       "properties_region                       0\n",
       "properties_nearby                       0\n",
       "properties_light                        0\n",
       "properties_tags                         0\n",
       "properties_participant_categories       0\n",
       "dtype: int64"
      ]
     },
     "metadata": {},
     "output_type": "display_data"
    },
    {
     "data": {
      "text/plain": [
       "properties_address                   0.0385\n",
       "properties_scheme                    0.0303\n",
       "properties_point_lat                 0.0001\n",
       "properties_point_long                0.0001\n",
       "properties_category                  0.0000\n",
       "properties_participants_count        0.0000\n",
       "properties_road_conditions           0.0000\n",
       "properties_parent_region             0.0000\n",
       "properties_injured_count             0.0000\n",
       "properties_datetime                  0.0000\n",
       "geometry_coordinates                 0.0000\n",
       "properties_weather                   0.0000\n",
       "id                                   0.0000\n",
       "properties_region                    0.0000\n",
       "properties_nearby                    0.0000\n",
       "properties_light                     0.0000\n",
       "properties_tags                      0.0000\n",
       "properties_participant_categories    0.0000\n",
       "dtype: float64"
      ]
     },
     "execution_count": 9,
     "metadata": {},
     "output_type": "execute_result"
    }
   ],
   "source": [
    "# Выводим количество пропущенных строк в датафрейме df_m в абсолютном значении\n",
    "display (df_m.isna().sum().sort_values(ascending=False))\n",
    "\n",
    "# Выводим долю строк с пропусками\n",
    "round ((df_m.isna().sum() / len(df_m)),4).sort_values(ascending=False)"
   ]
  },
  {
   "cell_type": "markdown",
   "id": "b8768659",
   "metadata": {},
   "source": [
    "**Вывод по пропускам.** В датафрейме `df_m` пропущенные значения наблюдаются в тех же полях, что и в таблице с ДТП по Кировской области `df_k`. Столбец `properties_scheme`(схема ДТП) - 3.9%, `properties_address`(ближайший адрес) - 3.0%, в полях с широтой и долготой всего по 3 пропуска (0.01%). Количество пропусков также некритично, оставим их как есть.\n",
    "\n",
    "Далее, проверим уникальные значения в категориальных столбцах датафреймов."
   ]
  },
  {
   "cell_type": "code",
   "execution_count": 10,
   "id": "cf6f6fdb",
   "metadata": {
    "scrolled": false
   },
   "outputs": [
    {
     "data": {
      "text/plain": [
       "'Уникальные значения в properties_tags:'"
      ]
     },
     "metadata": {},
     "output_type": "display_data"
    },
    {
     "data": {
      "text/plain": [
       "array(['Дорожно-транспортные происшествия'], dtype=object)"
      ]
     },
     "metadata": {},
     "output_type": "display_data"
    },
    {
     "data": {
      "text/plain": [
       "array([\"['Дорожно-транспортные происшествия']\",\n",
       "       \"['Дорожно-транспортные происшествия', 'ДТП и пострадавшие дети в возрасте до 16 лет']\",\n",
       "       \"['Дорожно-транспортные происшествия', 'ДТП и пострадавшие пешеходы, из-за наезда на пешеходов, на пешеходных переходах, по вине пешеходов']\",\n",
       "       \"['Дорожно-транспортные происшествия', 'ДТП и пострадавшие пешеходы, из-за наезда на пешеходов, на пешеходных переходах, по вине пешеходов', 'ДТП и пострадавшие дети в возрасте до 16 лет']\"],\n",
       "      dtype=object)"
      ]
     },
     "metadata": {},
     "output_type": "display_data"
    },
    {
     "data": {
      "text/plain": [
       "'--------------------------------------------------'"
      ]
     },
     "metadata": {},
     "output_type": "display_data"
    },
    {
     "data": {
      "text/plain": [
       "'Уникальные значения в properties_light:'"
      ]
     },
     "metadata": {},
     "output_type": "display_data"
    },
    {
     "data": {
      "text/plain": [
       "array(['Светлое время суток', 'Сумерки',\n",
       "       'В темное время суток, освещение отсутствует',\n",
       "       'В темное время суток, освещение не включено',\n",
       "       'В темное время суток, освещение включено'], dtype=object)"
      ]
     },
     "metadata": {},
     "output_type": "display_data"
    },
    {
     "data": {
      "text/plain": [
       "array(['Светлое время суток', 'В темное время суток, освещение включено',\n",
       "       'В темное время суток, освещение отсутствует',\n",
       "       'В темное время суток, освещение не включено', 'Сумерки'],\n",
       "      dtype=object)"
      ]
     },
     "metadata": {},
     "output_type": "display_data"
    },
    {
     "data": {
      "text/plain": [
       "'--------------------------------------------------'"
      ]
     },
     "metadata": {},
     "output_type": "display_data"
    },
    {
     "data": {
      "text/plain": [
       "'Уникальные значения в properties_weather:'"
      ]
     },
     "metadata": {},
     "output_type": "display_data"
    },
    {
     "data": {
      "text/plain": [
       "array([\"['Дождь']\", \"['Ясно']\", \"['Пасмурно']\", \"['Снегопад']\",\n",
       "       \"['Снегопад', 'Метель']\", \"['Пасмурно', 'Дождь']\", \"['Туман']\",\n",
       "       \"['Пасмурно', 'Температура ниже -30С']\",\n",
       "       \"['Пасмурно', 'Снегопад']\", \"['Ясно', 'Температура выше +30С']\",\n",
       "       \"['Пасмурно', 'Туман']\", \"['Метель']\", \"['Пасмурно', 'Метель']\",\n",
       "       \"['Ясно', 'Температура ниже -30С']\",\n",
       "       \"['Пасмурно', 'Ураганный ветер']\", \"['Ясно', 'Туман']\",\n",
       "       \"['Дождь', 'Туман']\", \"['Дождь', 'Снегопад']\"], dtype=object)"
      ]
     },
     "metadata": {},
     "output_type": "display_data"
    },
    {
     "data": {
      "text/plain": [
       "array([\"['Ясно']\", \"['Пасмурно']\", \"['Снегопад']\", \"['Дождь']\",\n",
       "       \"['Пасмурно', 'Снегопад']\", \"['Пасмурно', 'Дождь']\", \"['Метель']\",\n",
       "       \"['Пасмурно', 'Туман']\", \"['Дождь', 'Туман']\", \"['Туман']\",\n",
       "       \"['Снегопад', 'Метель']\", \"['Ясно', 'Туман']\",\n",
       "       \"['Дождь', 'Снегопад']\", \"['Ясно', 'Температура выше +30С']\",\n",
       "       \"['Ясно', 'Температура ниже -30С']\",\n",
       "       \"['Пасмурно', 'Ураганный ветер']\", \"['Дождь', 'Ураганный ветер']\"],\n",
       "      dtype=object)"
      ]
     },
     "metadata": {},
     "output_type": "display_data"
    },
    {
     "data": {
      "text/plain": [
       "'--------------------------------------------------'"
      ]
     },
     "metadata": {},
     "output_type": "display_data"
    },
    {
     "data": {
      "text/plain": [
       "'Уникальные значения в properties_category:'"
      ]
     },
     "metadata": {},
     "output_type": "display_data"
    },
    {
     "data": {
      "text/plain": [
       "array(['Опрокидывание', 'Наезд на пешехода', 'Съезд с дороги',\n",
       "       'Столкновение', 'Наезд на препятствие', 'Наезд на велосипедиста',\n",
       "       'Наезд на животное', 'Наезд на стоящее ТС', 'Падение пассажира',\n",
       "       'Наезд на лицо, не являющееся участником дорожного движения, осуществляющее производство работ',\n",
       "       'Наезд на лицо, не являющееся участником дорожного движения, осуществляющее несение службы',\n",
       "       'Иной вид ДТП', 'Отбрасывание предмета',\n",
       "       'Наезд на лицо, не являющееся участником дорожного движения, осуществляющее какую-либо другую деятельность',\n",
       "       'Наезд на внезапно возникшее препятствие', 'Падение груза'],\n",
       "      dtype=object)"
      ]
     },
     "metadata": {},
     "output_type": "display_data"
    },
    {
     "data": {
      "text/plain": [
       "array(['Столкновение', 'Наезд на пешехода', 'Наезд на препятствие',\n",
       "       'Опрокидывание', 'Наезд на стоящее ТС', 'Наезд на велосипедиста',\n",
       "       'Съезд с дороги', 'Наезд на животное',\n",
       "       'Наезд на лицо, не являющееся участником дорожного движения, осуществляющее производство работ',\n",
       "       'Падение пассажира', 'Иной вид ДТП',\n",
       "       'Наезд на внезапно возникшее препятствие', 'Падение груза',\n",
       "       'Наезд на лицо, не являющееся участником дорожного движения, осуществляющее несение службы',\n",
       "       'Отбрасывание предмета',\n",
       "       'Наезд на лицо, не являющееся участником дорожного движения, осуществляющее какую-либо другую деятельность'],\n",
       "      dtype=object)"
      ]
     },
     "metadata": {},
     "output_type": "display_data"
    },
    {
     "data": {
      "text/plain": [
       "'--------------------------------------------------'"
      ]
     },
     "metadata": {},
     "output_type": "display_data"
    },
    {
     "data": {
      "text/plain": [
       "'Уникальные значения в properties_nearby:'"
      ]
     },
     "metadata": {},
     "output_type": "display_data"
    },
    {
     "data": {
      "text/plain": [
       "array(['[]',\n",
       "       \"['Административные здания', 'Нерегулируемый перекрёсток неравнозначных улиц (дорог)', 'Нерегулируемый пешеходный переход']\",\n",
       "       \"['Жилые дома индивидуальной застройки', 'Нерегулируемый перекрёсток равнозначных улиц (дорог)']\",\n",
       "       ...,\n",
       "       \"['Многоквартирные жилые дома', 'Нерегулируемый перекрёсток неравнозначных улиц (дорог)', 'Нерегулируемый перекрёсток', 'Лечебные учреждения']\",\n",
       "       \"['Многоквартирные жилые дома', 'Иной объект', 'Нерегулируемый пешеходный переход', 'Спортивные и развлекательные объекты']\",\n",
       "       \"['Многоквартирные жилые дома', 'Жилые дома индивидуальной застройки', 'Крупный торговый объект (являющийся объектом массового тяготения пешеходов и (или) транспорта)', 'Нерегулируемый перекрёсток неравнозначных улиц (дорог)', 'Нерегулируемый перекрёсток']\"],\n",
       "      dtype=object)"
      ]
     },
     "metadata": {},
     "output_type": "display_data"
    },
    {
     "data": {
      "text/plain": [
       "array([\"['Мост, эстакада, путепровод', 'Крупный торговый объект (являющийся объектом массового тяготения пешеходов и (или) транспорта)']\",\n",
       "       '[]',\n",
       "       \"['Многоквартирные жилые дома', 'Остановка общественного транспорта', 'Регулируемый перекрёсток', 'Регулируемый пешеходный переход', 'Тротуар, пешеходная дорожка']\",\n",
       "       ...,\n",
       "       \"['Многоквартирные жилые дома', 'Крупный торговый объект (являющийся объектом массового тяготения пешеходов и (или) транспорта)', 'Нерегулируемый перекрёсток', 'Объект строительства']\",\n",
       "       \"['Выезд с прилегающей территории', 'Мост', 'Крупный торговый объект (являющийся объектом массового тяготения пешеходов и (или) транспорта)', 'Автостоянка (отделенная от проезжей части)', 'Эстакада, путепровод']\",\n",
       "       \"['Иной объект', 'Регулируемый перекресток', 'Школа либо иная детская (в т.ч. дошкольная) организация', 'Регулируемый пешеходный переход']\"],\n",
       "      dtype=object)"
      ]
     },
     "metadata": {},
     "output_type": "display_data"
    },
    {
     "data": {
      "text/plain": [
       "'--------------------------------------------------'"
      ]
     },
     "metadata": {},
     "output_type": "display_data"
    },
    {
     "data": {
      "text/plain": [
       "'Уникальные значения в properties_region:'"
      ]
     },
     "metadata": {},
     "output_type": "display_data"
    },
    {
     "data": {
      "text/plain": [
       "array(['Яранский район', 'Шабалинский район', 'Фаленский район',\n",
       "       'Уржумский район', 'Унинский район', 'Тужинский район',\n",
       "       'Сунский район', 'Советский район', 'Свечинский район',\n",
       "       'Санчурский район', 'Подосиновский район', 'Пижанский район',\n",
       "       'Орловский район', 'Оричевский район', 'Опаринскийрайон',\n",
       "       'Омутнинский район', 'Нолинский район', 'Немский район',\n",
       "       'Нагорский район', 'Мурашинский район', 'Малмыжский район',\n",
       "       'Лузский район', 'Лебяжский район', 'Куменский район',\n",
       "       'Кильмезский район', 'Кикнурский район', 'Зуевский район',\n",
       "       'Даровской район', 'Верхошижемский район', 'Верхнекамский район',\n",
       "       'Богородский район', 'Белохолуницкий район', 'Афанасьевский район',\n",
       "       'Арбажский район', 'Киров', 'Юрьянский район',\n",
       "       'Котельничский район', 'Слободской район', 'Кирово-Чепецки район',\n",
       "       'Вятско-Полянский район'], dtype=object)"
      ]
     },
     "metadata": {},
     "output_type": "display_data"
    },
    {
     "data": {
      "text/plain": [
       "array(['Мытищинский', 'Истринский', 'Лобня', 'Воскресенский', 'Раменский',\n",
       "       'Рузский', 'Пушкинский', 'Подольский', 'Ленинский', 'Электросталь',\n",
       "       'Наро-Фоминский', 'Павлово-Посадский', 'Королёв', 'Щелковский',\n",
       "       'Дубна', 'Долгопрудный', 'Дзержинский', 'Бронницы',\n",
       "       'Красногорский', 'Ступинский', 'Ногинский', 'Каширский',\n",
       "       'Серпуховский', 'Одинцовский', 'Солнечногорский',\n",
       "       'Сергиево-Посадский', 'Чеховский', 'Протвино', 'Люберецкий',\n",
       "       'Лотошинский', 'Коломенский', 'Можайский', 'Балашиха',\n",
       "       'Дмитровский', 'Клинский', 'Орехово-Зуево', 'Железнодорожный',\n",
       "       'Луховицкий', 'Талдомский', 'Домодедово', 'Орехово-Зуевский',\n",
       "       'Волоколамский', 'Лосино-Петровский', 'Звенигород', 'Жуковский',\n",
       "       'Коломна', 'Реутов', 'Красноармейск', 'Шатурский', 'Химки',\n",
       "       'Серпухов', 'Лыткарино', 'Фрязино', 'Котельники', 'Климовск',\n",
       "       'Ивантеевка', 'Егорьевский', 'Власиха', 'Зарайский', 'Озёрский',\n",
       "       'Серебряно-Прудский', 'Рошаль', 'Шаховской', 'Пущино', 'Подольск'],\n",
       "      dtype=object)"
      ]
     },
     "metadata": {},
     "output_type": "display_data"
    },
    {
     "data": {
      "text/plain": [
       "'--------------------------------------------------'"
      ]
     },
     "metadata": {},
     "output_type": "display_data"
    }
   ],
   "source": [
    "# Проверяем уникальных значений в категориальных столбцах датафреймов\n",
    "for column in ['properties_tags', 'properties_light', 'properties_weather', \n",
    "               'properties_category', 'properties_nearby', 'properties_region']:\n",
    "    display(f\"Уникальные значения в {column}:\")\n",
    "    display(df_k[column].unique())  # Для Кировской области\n",
    "    display(df_m[column].unique())  # Для Московской области\n",
    "    display(\"-\" * 50)"
   ]
  },
  {
   "cell_type": "markdown",
   "id": "5b2a128b",
   "metadata": {},
   "source": [
    "Мы видим, что в поле `properties_light` формулировки `В темное время суток, освещение отсутствует` и `В темное время суток, освещение не включено` фактически описывают одно и то же состояние, но разными словами. В данном случае, будет корректно объединить данные формулировки в одну категорию.\n",
    "\n",
    "Столбец `properties_nearby` содержит пустые списки `[]`. Это может означать, что ДТП произошло в месте, где нет значимых объектов или пропущенные значения. Порверим количество пустых списков. "
   ]
  },
  {
   "cell_type": "code",
   "execution_count": 11,
   "id": "93764856",
   "metadata": {},
   "outputs": [
    {
     "data": {
      "text/plain": [
       "0.199"
      ]
     },
     "metadata": {},
     "output_type": "display_data"
    },
    {
     "data": {
      "text/plain": [
       "0.232"
      ]
     },
     "metadata": {},
     "output_type": "display_data"
    }
   ],
   "source": [
    "# Проверим долю пустых списков\n",
    "number_empty_list_k = (df_k['properties_nearby'] == '[]').sum() # Для Кировской области\n",
    "proportion_empty_lists_k = round(number_empty_list_k / len(df_k),3)\n",
    "\n",
    "display (proportion_empty_lists_k)\n",
    "\n",
    "number_empty_list_m = (df_m['properties_nearby'] == '[]').sum() # Для Московской области\n",
    "proportion_empty_lists_m = round(number_empty_list_m / len(df_m),3)\n",
    "\n",
    "display (proportion_empty_lists_m)"
   ]
  },
  {
   "cell_type": "markdown",
   "id": "962c2bee",
   "metadata": {},
   "source": [
    "Доля пустых списков `[]` в столбце `properties_nearby` составляет 19.9% для Кировской области и 23.2% для Московской области. Поскольку строк с пустым списком присутствует в достаточно большом количестве и замена `[]` на произвольные значения (например `[Нет объектов]`/`[Не указано]`) может внести субъективную интерпретацию, оставим данное значение как есть,  это не окажет значительного влияния на дальнейший анализ. \n",
    "\n",
    "Далле, обработаем аналогичные варианты в столбце `properties_light`.  "
   ]
  },
  {
   "cell_type": "code",
   "execution_count": 12,
   "id": "f3bcbbf2",
   "metadata": {},
   "outputs": [],
   "source": [
    "# Создаем словарь для объединения схожих вариантов в одну категорию\n",
    "light_mapping = {\n",
    "    'В темное время суток, освещение отсутствует': 'Темное время (нет освещения)',\n",
    "    'В темное время суток, освещение не включено': 'Темное время (нет освещения)',}\n",
    "\n",
    "# Для Кировской области\n",
    "df_k['properties_light'] = df_k['properties_light'].replace(light_mapping)\n",
    "\n",
    "# Для Московской области\n",
    "df_m['properties_light'] = df_m['properties_light'].replace(light_mapping)"
   ]
  },
  {
   "cell_type": "markdown",
   "id": "5d46fc7a",
   "metadata": {},
   "source": [
    "Проверим уникальные значения в столбце `properties_light` после преобразования. "
   ]
  },
  {
   "cell_type": "code",
   "execution_count": 13,
   "id": "f66b2d63",
   "metadata": {},
   "outputs": [
    {
     "data": {
      "text/plain": [
       "'Уникальные значения в properties_light:'"
      ]
     },
     "metadata": {},
     "output_type": "display_data"
    },
    {
     "data": {
      "text/plain": [
       "array(['Светлое время суток', 'Сумерки', 'Темное время (нет освещения)',\n",
       "       'В темное время суток, освещение включено'], dtype=object)"
      ]
     },
     "metadata": {},
     "output_type": "display_data"
    },
    {
     "data": {
      "text/plain": [
       "array(['Светлое время суток', 'В темное время суток, освещение включено',\n",
       "       'Темное время (нет освещения)', 'Сумерки'], dtype=object)"
      ]
     },
     "metadata": {},
     "output_type": "display_data"
    },
    {
     "data": {
      "text/plain": [
       "'--------------------------------------------------'"
      ]
     },
     "metadata": {},
     "output_type": "display_data"
    }
   ],
   "source": [
    "# Проверим уникальные значения после преобразования\n",
    "for column in ['properties_light']:\n",
    "    display(f\"Уникальные значения в {column}:\")\n",
    "    display(df_k[column].unique())  # Для Кировской области\n",
    "    display(df_m[column].unique())  # Для Московской области\n",
    "    display(\"-\" * 50)"
   ]
  },
  {
   "cell_type": "markdown",
   "id": "ed87da49",
   "metadata": {},
   "source": [
    "Объединение схожих вариантов в одну категорию в столбце  `properties_light` прошло успешно. \n",
    "\n",
    "### Наличие явных и неявных дубликатов в данных.\n",
    "\n",
    "Проверим наличие в данных явных дубликатов."
   ]
  },
  {
   "cell_type": "code",
   "execution_count": 14,
   "id": "871ad05a",
   "metadata": {},
   "outputs": [
    {
     "data": {
      "text/plain": [
       "'Полных дубликатов в df_k: 0'"
      ]
     },
     "metadata": {},
     "output_type": "display_data"
    },
    {
     "data": {
      "text/plain": [
       "'Полных дубликатов  в df_m: 0'"
      ]
     },
     "metadata": {},
     "output_type": "display_data"
    }
   ],
   "source": [
    "# Проверяем явные дубликаты \n",
    "# Для Кировской области\n",
    "duplicates_k = df_k[df_k.duplicated()]\n",
    "display(f\"Полных дубликатов в df_k: {len(duplicates_k)}\")\n",
    "\n",
    "# Для Московской области\n",
    "duplicates_m = df_m[df_m.duplicated()]\n",
    "display(f\"Полных дубликатов  в df_m: {len(duplicates_m)}\")"
   ]
  },
  {
   "cell_type": "markdown",
   "id": "a5d31952",
   "metadata": {},
   "source": [
    "Полных дубликатов не выявлено. Далее, узнаем все ли идентификаторы действительно уникальны."
   ]
  },
  {
   "cell_type": "code",
   "execution_count": 15,
   "id": "8242eede",
   "metadata": {},
   "outputs": [
    {
     "data": {
      "text/plain": [
       "'Дубликатов id в df_k: 0'"
      ]
     },
     "metadata": {},
     "output_type": "display_data"
    },
    {
     "data": {
      "text/plain": [
       "'Дубликатов id в df_m: 0'"
      ]
     },
     "metadata": {},
     "output_type": "display_data"
    }
   ],
   "source": [
    "# Кировская область\n",
    "id_dupl_k = df_k[df_k['id'].duplicated()]\n",
    "display(f\"Дубликатов id в df_k: {len(id_dupl_k)}\")\n",
    "\n",
    "# Московская область\n",
    "id_dupl_m = df_m[df_m['id'].duplicated()]\n",
    "display(f\"Дубликатов id в df_m: {len(id_dupl_m)}\")"
   ]
  },
  {
   "cell_type": "markdown",
   "id": "77b1db0b",
   "metadata": {},
   "source": [
    "Мы видим, что все `id` ДТП уникальны. Проверим неявные дубликаты - есть ли одинаковые строки, кроме значений в поле `id`."
   ]
  },
  {
   "cell_type": "code",
   "execution_count": 16,
   "id": "cf125ca5",
   "metadata": {},
   "outputs": [
    {
     "data": {
      "text/plain": [
       "0"
      ]
     },
     "metadata": {},
     "output_type": "display_data"
    },
    {
     "data": {
      "text/plain": [
       "0"
      ]
     },
     "metadata": {},
     "output_type": "display_data"
    }
   ],
   "source": [
    "# Создаем список всех столбцов, кроме id\n",
    "# Выбираем все столбцы, кроме id\n",
    "columns_no_id_k = df_k.columns.difference(['id']) # Для Кировской области\n",
    "\n",
    "# Проверяем наличие дубликатов\n",
    "duplicates_id_k = df_k[df_k.duplicated(subset=columns_no_id_k, keep=False)]\n",
    "\n",
    "display (len(duplicates_id_k))\n",
    "\n",
    "# Выбираем все столбцы, кроме id\n",
    "columns_no_id_m = df_m.columns.difference(['id']) # Для Московской области\n",
    "\n",
    "# Проверяем наличие дубликатов\n",
    "duplicates_id_m = df_m[df_m.duplicated(subset=columns_no_id_m, keep=False)]\n",
    "\n",
    "display (len(duplicates_id_m))"
   ]
  },
  {
   "cell_type": "markdown",
   "id": "e1387517",
   "metadata": {},
   "source": [
    "Дубликатов строк без значений в поле `id` не выявлено. Далее, проверим есть ли дубликаты по полям `properties_datetime`, `properties_point_lat`, `properties_point_long`, `properties_address` - дата и время, координаты и адрес."
   ]
  },
  {
   "cell_type": "code",
   "execution_count": 17,
   "id": "d37ca317",
   "metadata": {},
   "outputs": [
    {
     "data": {
      "text/plain": [
       "'Неявных дубликатов в Кировской области: 0'"
      ]
     },
     "metadata": {},
     "output_type": "display_data"
    },
    {
     "data": {
      "text/plain": [
       "'Неявных дубликатов в Московской области: 0'"
      ]
     },
     "metadata": {},
     "output_type": "display_data"
    }
   ],
   "source": [
    "# Создаем список столбцов, по которым будем проверять дубликаты\n",
    "key_columns = ['properties_datetime', 'properties_point_lat', \n",
    "               'properties_point_long', 'properties_address']\n",
    "\n",
    "# Кировская область\n",
    "key_duplicates_k = df_k[df_k.duplicated(subset=key_columns, keep=False)]\n",
    "display (f\"Неявных дубликатов в Кировской области: {len(key_duplicates_k)}\")\n",
    "\n",
    "# Московская область\n",
    "key_duplicates_m = df_m[df_m.duplicated(subset=key_columns, keep=False)]\n",
    "display(f\"Неявных дубликатов в Московской области: {len(key_duplicates_m)}\")"
   ]
  },
  {
   "cell_type": "markdown",
   "id": "8b37637e",
   "metadata": {},
   "source": [
    "Неявных дубликатов в обоих датафреймах не выявлено.\n",
    "\n",
    "### Проверка корректности типов данных.\n",
    "\n",
    "Тип данных в столбце с датой и временем `properties_datetime` представлен в `object`, в данном случае будет корректно привести к типу `datetime`. Также, оптимизируем разрядность числовых данных."
   ]
  },
  {
   "cell_type": "code",
   "execution_count": 18,
   "id": "ac8978b2",
   "metadata": {},
   "outputs": [
    {
     "name": "stdout",
     "output_type": "stream",
     "text": [
      "datetime64[ns]\n",
      "datetime64[ns]\n"
     ]
    }
   ],
   "source": [
    "# Преобрразуем тип данных даты и времени\n",
    "df_k ['properties_datetime'] = pd.to_datetime (df_k['properties_datetime']) # Для Кировской области\n",
    "\n",
    "# Проверяем результат\n",
    "print (df_k ['properties_datetime'].dtype)\n",
    "\n",
    "df_m ['properties_datetime'] = pd.to_datetime (df_m['properties_datetime']) # Для Московской области\n",
    "\n",
    "# Проверяем результат\n",
    "print (df_m ['properties_datetime'].dtype)"
   ]
  },
  {
   "cell_type": "markdown",
   "id": "5e19dbd3",
   "metadata": {},
   "source": [
    "Преобразование типа данных в столбце `properties_datetime` прошло успешно. Далее, оптимизируем разрядность числовых данных."
   ]
  },
  {
   "cell_type": "code",
   "execution_count": 19,
   "id": "d4fa3ec8",
   "metadata": {},
   "outputs": [
    {
     "data": {
      "text/plain": [
       "geometry_coordinates                         object\n",
       "id                                            int32\n",
       "properties_tags                              object\n",
       "properties_light                             object\n",
       "properties_point_lat                        float32\n",
       "properties_point_long                       float32\n",
       "properties_nearby                            object\n",
       "properties_region                            object\n",
       "properties_scheme                           float32\n",
       "properties_address                           object\n",
       "properties_weather                           object\n",
       "properties_category                          object\n",
       "properties_datetime                  datetime64[ns]\n",
       "properties_injured_count                       int8\n",
       "properties_parent_region                     object\n",
       "properties_road_conditions                   object\n",
       "properties_participants_count                  int8\n",
       "properties_participant_categories            object\n",
       "dtype: object"
      ]
     },
     "metadata": {},
     "output_type": "display_data"
    },
    {
     "data": {
      "text/plain": [
       "geometry_coordinates                         object\n",
       "id                                            int32\n",
       "properties_tags                              object\n",
       "properties_light                             object\n",
       "properties_point_lat                        float32\n",
       "properties_point_long                       float32\n",
       "properties_nearby                            object\n",
       "properties_region                            object\n",
       "properties_scheme                           float32\n",
       "properties_address                           object\n",
       "properties_weather                           object\n",
       "properties_category                          object\n",
       "properties_datetime                  datetime64[ns]\n",
       "properties_injured_count                       int8\n",
       "properties_parent_region                     object\n",
       "properties_road_conditions                   object\n",
       "properties_participants_count                  int8\n",
       "properties_participant_categories            object\n",
       "dtype: object"
      ]
     },
     "metadata": {},
     "output_type": "display_data"
    }
   ],
   "source": [
    "# Уменьшаем разрядность числовых данные для df_k\n",
    "for column in ['properties_point_lat', 'properties_point_long', \n",
    "               'properties_scheme', 'id', 'properties_injured_count',\n",
    "              'properties_participants_count']:\n",
    "    if df_k[column].dtype == 'int64':\n",
    "        df_k[column] = pd.to_numeric(df_k[column], downcast='integer')\n",
    "    else:     \n",
    "        df_k[column] = pd.to_numeric(df_k[column], downcast='float')\n",
    "        \n",
    "# Проверяем результат\n",
    "display (df_k.dtypes) \n",
    "\n",
    "# Уменьшаем разрядность числовых данные для df_m\n",
    "for column in ['properties_point_lat', 'properties_point_long', \n",
    "               'properties_scheme', 'id', 'properties_injured_count',\n",
    "              'properties_participants_count']:\n",
    "    if df_m[column].dtype == 'int64':\n",
    "        df_m[column] = pd.to_numeric(df_m[column], downcast='integer')\n",
    "    else:     \n",
    "        df_m[column] = pd.to_numeric(df_m[column], downcast='float')\n",
    "        \n",
    "# Проверяем результат\n",
    "display (df_m.dtypes) "
   ]
  },
  {
   "cell_type": "markdown",
   "id": "5fe36692",
   "metadata": {},
   "source": [
    "Типы данных в числовых столбцах оптимизированы успешно. \n",
    "\n",
    "**Вывод по предобработке данных.**\n",
    "\n",
    "В результате предобработки данных датафреймов `df_k` (Кировская область) и `df_m` (Московская область), сожержащих информацию о ДТП, были произведены следующие действия:\n",
    " - знакомство с данными - датафрейм `df_k` состоит из 18 столбцов и 14517 строк, `df_m` из 18 столбцов и 45618 строк, данные соответствуют описанию.\n",
    " - названия столбцов датафреймов приведены к стилю `snake case`.\n",
    " - подсчет пропусков в данных. Датафреймы содержат пропущенные значения в столбцах: `properties_scheme` (`df_k` 7.8%, `df_m` 3.9%), `properties_address` (`df_k` 4.6%, `df_m` 3.0%), `properties.point.lat` и `properties.point.long` (`df_k` по 0.02%, `df_m` по 0.01%). Количество пропусков некритично и существенного влияния на дальнейший анализ не окажут. Для сохранения целостности данных, оставим их как есть.\n",
    " - изучение уникальных значений в категориальных столбцах. В поле `properties_light` формулировки `В темное время суток, освещение отсутствуе`т и `В темное время суток, освещение не включено` фактически описывают одно и то же, объединили данные формулировки в одну категорию - `Темное время (нет освещения)`. Было вявлено, что столбец `properties_nearby` содержит пустые списки `[]` (19.9% для Кировской области и 23.2% для Московской области). Это может означать, что ДТП произошло в месте, где нет значимых объектов или пропущенные значения. Поскольку произвольные значения (например `Нет объектов`) может внести субъективную интерпретацию, оставили данное значение как есть. \n",
    " - проверка явных и неявных дубликатов. Явных дубликатов не выявлено. Также, была проведена проверка неявных дубликатов по полю с уникальным значением `id`, а также по всем столбцам, кроме `id` и комбинация полей `properties_datetime`, `properties_point_lat`, `properties_point_long`, `properties_address`, содержащих данные даты и времени, координат и адреса - повторов не обнаружено.\n",
    " - проверка корректности типов данных. Тип данных в столбце с датой и временем `properties_datetime` приведен к формату `datetime`. Также, оптимизирована разрядность числовых данных. \n",
    " \n",
    " ## Исследовательский анализ данных.\n",
    " \n",
    " ### Какое число ДТП случилось в каждый день недели. Разбивка числа происшествий по месяцам.\n",
    "\n",
    "Посчитаем количество ДТП по дням недели."
   ]
  },
  {
   "cell_type": "code",
   "execution_count": 20,
   "id": "681e256b",
   "metadata": {},
   "outputs": [
    {
     "data": {
      "text/html": [
       "<div>\n",
       "<style scoped>\n",
       "    .dataframe tbody tr th:only-of-type {\n",
       "        vertical-align: middle;\n",
       "    }\n",
       "\n",
       "    .dataframe tbody tr th {\n",
       "        vertical-align: top;\n",
       "    }\n",
       "\n",
       "    .dataframe thead th {\n",
       "        text-align: right;\n",
       "    }\n",
       "</style>\n",
       "<table border=\"1\" class=\"dataframe\">\n",
       "  <thead>\n",
       "    <tr style=\"text-align: right;\">\n",
       "      <th></th>\n",
       "      <th>day_of_week</th>\n",
       "      <th>id</th>\n",
       "    </tr>\n",
       "  </thead>\n",
       "  <tbody>\n",
       "    <tr>\n",
       "      <th>3</th>\n",
       "      <td>Пятница</td>\n",
       "      <td>2344</td>\n",
       "    </tr>\n",
       "    <tr>\n",
       "      <th>5</th>\n",
       "      <td>Суббота</td>\n",
       "      <td>2246</td>\n",
       "    </tr>\n",
       "    <tr>\n",
       "      <th>0</th>\n",
       "      <td>Воскресенье</td>\n",
       "      <td>2054</td>\n",
       "    </tr>\n",
       "    <tr>\n",
       "      <th>2</th>\n",
       "      <td>Понедельник</td>\n",
       "      <td>2010</td>\n",
       "    </tr>\n",
       "    <tr>\n",
       "      <th>1</th>\n",
       "      <td>Вторник</td>\n",
       "      <td>1988</td>\n",
       "    </tr>\n",
       "    <tr>\n",
       "      <th>4</th>\n",
       "      <td>Среда</td>\n",
       "      <td>1939</td>\n",
       "    </tr>\n",
       "    <tr>\n",
       "      <th>6</th>\n",
       "      <td>Четверг</td>\n",
       "      <td>1936</td>\n",
       "    </tr>\n",
       "  </tbody>\n",
       "</table>\n",
       "</div>"
      ],
      "text/plain": [
       "   day_of_week    id\n",
       "3      Пятница  2344\n",
       "5      Суббота  2246\n",
       "0  Воскресенье  2054\n",
       "2  Понедельник  2010\n",
       "1      Вторник  1988\n",
       "4        Среда  1939\n",
       "6      Четверг  1936"
      ]
     },
     "metadata": {},
     "output_type": "display_data"
    },
    {
     "data": {
      "text/html": [
       "<div>\n",
       "<style scoped>\n",
       "    .dataframe tbody tr th:only-of-type {\n",
       "        vertical-align: middle;\n",
       "    }\n",
       "\n",
       "    .dataframe tbody tr th {\n",
       "        vertical-align: top;\n",
       "    }\n",
       "\n",
       "    .dataframe thead th {\n",
       "        text-align: right;\n",
       "    }\n",
       "</style>\n",
       "<table border=\"1\" class=\"dataframe\">\n",
       "  <thead>\n",
       "    <tr style=\"text-align: right;\">\n",
       "      <th></th>\n",
       "      <th>day_of_week</th>\n",
       "      <th>id</th>\n",
       "    </tr>\n",
       "  </thead>\n",
       "  <tbody>\n",
       "    <tr>\n",
       "      <th>5</th>\n",
       "      <td>Суббота</td>\n",
       "      <td>7285</td>\n",
       "    </tr>\n",
       "    <tr>\n",
       "      <th>3</th>\n",
       "      <td>Пятница</td>\n",
       "      <td>7024</td>\n",
       "    </tr>\n",
       "    <tr>\n",
       "      <th>2</th>\n",
       "      <td>Понедельник</td>\n",
       "      <td>6390</td>\n",
       "    </tr>\n",
       "    <tr>\n",
       "      <th>6</th>\n",
       "      <td>Четверг</td>\n",
       "      <td>6343</td>\n",
       "    </tr>\n",
       "    <tr>\n",
       "      <th>0</th>\n",
       "      <td>Воскресенье</td>\n",
       "      <td>6318</td>\n",
       "    </tr>\n",
       "    <tr>\n",
       "      <th>1</th>\n",
       "      <td>Вторник</td>\n",
       "      <td>6156</td>\n",
       "    </tr>\n",
       "    <tr>\n",
       "      <th>4</th>\n",
       "      <td>Среда</td>\n",
       "      <td>6102</td>\n",
       "    </tr>\n",
       "  </tbody>\n",
       "</table>\n",
       "</div>"
      ],
      "text/plain": [
       "   day_of_week    id\n",
       "5      Суббота  7285\n",
       "3      Пятница  7024\n",
       "2  Понедельник  6390\n",
       "6      Четверг  6343\n",
       "0  Воскресенье  6318\n",
       "1      Вторник  6156\n",
       "4        Среда  6102"
      ]
     },
     "metadata": {},
     "output_type": "display_data"
    }
   ],
   "source": [
    "# Создаем словарь с русскими названиями дней недели\n",
    "russian_days = {\n",
    "    0: 'Понедельник',\n",
    "    1: 'Вторник',\n",
    "    2: 'Среда',\n",
    "    3: 'Четверг',\n",
    "    4: 'Пятница',\n",
    "    5: 'Суббота',\n",
    "    6: 'Воскресенье'}\n",
    "\n",
    "# Для Кировской области\n",
    "# Извлекаем день недели из столбца properties_datetime\n",
    "df_k['day_of_week'] = pd.to_datetime(df_k['properties_datetime']).dt.dayofweek.map(russian_days)\n",
    "\n",
    "# ДТП по дням недели \n",
    "weekly_k = df_k.groupby('day_of_week')['id'].count().reset_index().sort_values (by = 'id', \n",
    "                                                                                ascending=False)\n",
    "\n",
    "display (weekly_k)\n",
    "\n",
    "# Для Московской области\n",
    "# Извлекаем день недели из столбца properties_datetime\n",
    "df_m['day_of_week'] = pd.to_datetime(df_m['properties_datetime']).dt.dayofweek.map(russian_days)\n",
    "\n",
    "# ДТП по дням недели \n",
    "weekly_m = df_m.groupby('day_of_week')['id'].count().reset_index().sort_values (by = 'id', \n",
    "                                                                                ascending=False)\n",
    "\n",
    "display (weekly_m)"
   ]
  },
  {
   "cell_type": "markdown",
   "id": "30e7c75c",
   "metadata": {},
   "source": [
    "Далее, определим число происшествий по месяцам."
   ]
  },
  {
   "cell_type": "code",
   "execution_count": 21,
   "id": "249aca7b",
   "metadata": {},
   "outputs": [
    {
     "data": {
      "text/html": [
       "<div>\n",
       "<style scoped>\n",
       "    .dataframe tbody tr th:only-of-type {\n",
       "        vertical-align: middle;\n",
       "    }\n",
       "\n",
       "    .dataframe tbody tr th {\n",
       "        vertical-align: top;\n",
       "    }\n",
       "\n",
       "    .dataframe thead th {\n",
       "        text-align: right;\n",
       "    }\n",
       "</style>\n",
       "<table border=\"1\" class=\"dataframe\">\n",
       "  <thead>\n",
       "    <tr style=\"text-align: right;\">\n",
       "      <th></th>\n",
       "      <th>month_dtp</th>\n",
       "      <th>id</th>\n",
       "    </tr>\n",
       "  </thead>\n",
       "  <tbody>\n",
       "    <tr>\n",
       "      <th>0</th>\n",
       "      <td>Август</td>\n",
       "      <td>1654</td>\n",
       "    </tr>\n",
       "    <tr>\n",
       "      <th>3</th>\n",
       "      <td>Июль</td>\n",
       "      <td>1635</td>\n",
       "    </tr>\n",
       "    <tr>\n",
       "      <th>4</th>\n",
       "      <td>Июнь</td>\n",
       "      <td>1421</td>\n",
       "    </tr>\n",
       "    <tr>\n",
       "      <th>9</th>\n",
       "      <td>Сентябрь</td>\n",
       "      <td>1370</td>\n",
       "    </tr>\n",
       "    <tr>\n",
       "      <th>8</th>\n",
       "      <td>Октябрь</td>\n",
       "      <td>1333</td>\n",
       "    </tr>\n",
       "    <tr>\n",
       "      <th>7</th>\n",
       "      <td>Ноябрь</td>\n",
       "      <td>1200</td>\n",
       "    </tr>\n",
       "    <tr>\n",
       "      <th>5</th>\n",
       "      <td>Май</td>\n",
       "      <td>1189</td>\n",
       "    </tr>\n",
       "    <tr>\n",
       "      <th>2</th>\n",
       "      <td>Декабрь</td>\n",
       "      <td>1164</td>\n",
       "    </tr>\n",
       "    <tr>\n",
       "      <th>11</th>\n",
       "      <td>Январь</td>\n",
       "      <td>1069</td>\n",
       "    </tr>\n",
       "    <tr>\n",
       "      <th>1</th>\n",
       "      <td>Апрель</td>\n",
       "      <td>875</td>\n",
       "    </tr>\n",
       "    <tr>\n",
       "      <th>10</th>\n",
       "      <td>Февраль</td>\n",
       "      <td>808</td>\n",
       "    </tr>\n",
       "    <tr>\n",
       "      <th>6</th>\n",
       "      <td>Март</td>\n",
       "      <td>799</td>\n",
       "    </tr>\n",
       "  </tbody>\n",
       "</table>\n",
       "</div>"
      ],
      "text/plain": [
       "   month_dtp    id\n",
       "0     Август  1654\n",
       "3       Июль  1635\n",
       "4       Июнь  1421\n",
       "9   Сентябрь  1370\n",
       "8    Октябрь  1333\n",
       "7     Ноябрь  1200\n",
       "5        Май  1189\n",
       "2    Декабрь  1164\n",
       "11    Январь  1069\n",
       "1     Апрель   875\n",
       "10   Февраль   808\n",
       "6       Март   799"
      ]
     },
     "metadata": {},
     "output_type": "display_data"
    },
    {
     "data": {
      "text/html": [
       "<div>\n",
       "<style scoped>\n",
       "    .dataframe tbody tr th:only-of-type {\n",
       "        vertical-align: middle;\n",
       "    }\n",
       "\n",
       "    .dataframe tbody tr th {\n",
       "        vertical-align: top;\n",
       "    }\n",
       "\n",
       "    .dataframe thead th {\n",
       "        text-align: right;\n",
       "    }\n",
       "</style>\n",
       "<table border=\"1\" class=\"dataframe\">\n",
       "  <thead>\n",
       "    <tr style=\"text-align: right;\">\n",
       "      <th></th>\n",
       "      <th>month_dtp</th>\n",
       "      <th>id</th>\n",
       "    </tr>\n",
       "  </thead>\n",
       "  <tbody>\n",
       "    <tr>\n",
       "      <th>0</th>\n",
       "      <td>Август</td>\n",
       "      <td>4787</td>\n",
       "    </tr>\n",
       "    <tr>\n",
       "      <th>9</th>\n",
       "      <td>Сентябрь</td>\n",
       "      <td>4571</td>\n",
       "    </tr>\n",
       "    <tr>\n",
       "      <th>3</th>\n",
       "      <td>Июль</td>\n",
       "      <td>4401</td>\n",
       "    </tr>\n",
       "    <tr>\n",
       "      <th>4</th>\n",
       "      <td>Июнь</td>\n",
       "      <td>4354</td>\n",
       "    </tr>\n",
       "    <tr>\n",
       "      <th>8</th>\n",
       "      <td>Октябрь</td>\n",
       "      <td>4113</td>\n",
       "    </tr>\n",
       "    <tr>\n",
       "      <th>5</th>\n",
       "      <td>Май</td>\n",
       "      <td>3992</td>\n",
       "    </tr>\n",
       "    <tr>\n",
       "      <th>2</th>\n",
       "      <td>Декабрь</td>\n",
       "      <td>3732</td>\n",
       "    </tr>\n",
       "    <tr>\n",
       "      <th>7</th>\n",
       "      <td>Ноябрь</td>\n",
       "      <td>3618</td>\n",
       "    </tr>\n",
       "    <tr>\n",
       "      <th>11</th>\n",
       "      <td>Январь</td>\n",
       "      <td>3254</td>\n",
       "    </tr>\n",
       "    <tr>\n",
       "      <th>1</th>\n",
       "      <td>Апрель</td>\n",
       "      <td>3172</td>\n",
       "    </tr>\n",
       "    <tr>\n",
       "      <th>6</th>\n",
       "      <td>Март</td>\n",
       "      <td>2880</td>\n",
       "    </tr>\n",
       "    <tr>\n",
       "      <th>10</th>\n",
       "      <td>Февраль</td>\n",
       "      <td>2744</td>\n",
       "    </tr>\n",
       "  </tbody>\n",
       "</table>\n",
       "</div>"
      ],
      "text/plain": [
       "   month_dtp    id\n",
       "0     Август  4787\n",
       "9   Сентябрь  4571\n",
       "3       Июль  4401\n",
       "4       Июнь  4354\n",
       "8    Октябрь  4113\n",
       "5        Май  3992\n",
       "2    Декабрь  3732\n",
       "7     Ноябрь  3618\n",
       "11    Январь  3254\n",
       "1     Апрель  3172\n",
       "6       Март  2880\n",
       "10   Февраль  2744"
      ]
     },
     "metadata": {},
     "output_type": "display_data"
    }
   ],
   "source": [
    "# Создаем словарь с названием месяцев\n",
    "month_names = {\n",
    "    1: 'Январь', \n",
    "    2: 'Февраль', \n",
    "    3: 'Март', \n",
    "    4: 'Апрель',\n",
    "    5: 'Май', \n",
    "    6: 'Июнь', \n",
    "    7: 'Июль', \n",
    "    8: 'Август',\n",
    "    9: 'Сентябрь', \n",
    "    10: 'Октябрь', \n",
    "    11: 'Ноябрь', \n",
    "    12: 'Декабрь'}\n",
    "\n",
    "# Для Кировской области\n",
    "# Выделляем из даты месяц\n",
    "df_k['month_dtp'] = pd.to_datetime(df_k['properties_datetime']).dt.month.map(month_names)\n",
    "\n",
    "# ДТП по месяцам\n",
    "count_month_k = df_k.groupby('month_dtp')['id'].count().reset_index().sort_values (by = 'id', \n",
    "                                                                                ascending=False)\n",
    "display(count_month_k)\n",
    "\n",
    "# Для Московской области\n",
    "# Выделляем из даты месяц\n",
    "df_m['month_dtp'] = pd.to_datetime(df_m['properties_datetime']).dt.month.map(month_names)\n",
    "\n",
    "# ДТП по месяцам\n",
    "count_month_m = df_m.groupby('month_dtp')['id'].count().reset_index().sort_values (by = 'id', \n",
    "                                                                                ascending=False)\n",
    "display(count_month_m)"
   ]
  },
  {
   "cell_type": "markdown",
   "id": "f020c19a",
   "metadata": {},
   "source": [
    "**Вывод.** По дням недели в Кировской области наибольшее число ДТП случается в пятницу (2344), субботу (2246) и воскресенье (2054), минимальная аварийность наблюдается в четверг (1936) и среду (1939). В Московской области лидируют суббота (7285) и пятница (7024), наименьшие показатели у среды (6102) и вторника (6156). Мы видим, что в Московской области нагрузка по дням недели распределена более равномерно, чем в Кировской (МО разница 19% между пиком и минимумом, КО разница 21%).\n",
    "\n",
    "\n",
    "По месяцам, мы наблюдаем в обоих регионах летнюю волну аварийности (КО: август 1654, июль 1635, июнь 1421, МО: август 4787, сентябрь 4571, июль 4401, июнь 4354). Зимой, с декабря по февраль, заметен спад (КО с 1164 по 808, МО с 3732 до 2744). Далее, наблюдается резкий рост весной, в начале дачного сезона - апрель-май (КО 875, 1189, МО 3172, 3992).\n",
    "\n",
    "В целом, можно заключить, что по обоим регионам видна тенденция к резкому увеличению аварийности к выходным дням - (пятница, суббота), и в летние месяца (с июня по август).\n",
    "\n",
    "### Категории водителей по стажу. \n",
    "\n",
    "Проверим, встречаются ли категории водителей по стажу, которые разительно отличаются по числу ДТП.\n",
    "Здесь понадобятся данные об участниках ДТП. Выгрузим и познакомимся с данными датафреймов об участниках ДТП - `participants_k` и `participants_m`. "
   ]
  },
  {
   "cell_type": "code",
   "execution_count": 22,
   "id": "f7e04588",
   "metadata": {},
   "outputs": [],
   "source": [
    "# Загружаем данные об участниках ДТП\n",
    "participants_k = pd.read_csv('https://code.s3.yandex.net/datasets/Kirovskaya_oblast_participiants.csv')\n",
    "participants_m = pd.read_csv('https://code.s3.yandex.net/datasets/Moscowskaya_oblast_participiants.csv')"
   ]
  },
  {
   "cell_type": "code",
   "execution_count": 23,
   "id": "67197f4e",
   "metadata": {},
   "outputs": [
    {
     "data": {
      "text/plain": [
       "31235"
      ]
     },
     "metadata": {},
     "output_type": "display_data"
    },
    {
     "data": {
      "text/plain": [
       "95177"
      ]
     },
     "metadata": {},
     "output_type": "display_data"
    }
   ],
   "source": [
    "# Сохраняем исходное количество строк датафреймов в переменные\n",
    "len_k = len(participants_k)\n",
    "len_m = len(participants_m)\n",
    "\n",
    "display (len_k)\n",
    "display (len_m)"
   ]
  },
  {
   "cell_type": "code",
   "execution_count": 24,
   "id": "31ba215d",
   "metadata": {},
   "outputs": [
    {
     "name": "stdout",
     "output_type": "stream",
     "text": [
      "<class 'pandas.core.frame.DataFrame'>\n",
      "RangeIndex: 31235 entries, 0 to 31234\n",
      "Data columns (total 6 columns):\n",
      " #   Column                       Non-Null Count  Dtype  \n",
      "---  ------                       --------------  -----  \n",
      " 0   role                         31235 non-null  object \n",
      " 1   gender                       30387 non-null  object \n",
      " 2   violations                   31235 non-null  object \n",
      " 3   health_status                31135 non-null  object \n",
      " 4   years_of_driving_experience  16909 non-null  float64\n",
      " 5   id                           31235 non-null  int64  \n",
      "dtypes: float64(1), int64(1), object(4)\n",
      "memory usage: 1.4+ MB\n",
      "<class 'pandas.core.frame.DataFrame'>\n",
      "RangeIndex: 95177 entries, 0 to 95176\n",
      "Data columns (total 6 columns):\n",
      " #   Column                       Non-Null Count  Dtype  \n",
      "---  ------                       --------------  -----  \n",
      " 0   role                         95177 non-null  object \n",
      " 1   gender                       93307 non-null  object \n",
      " 2   violations                   95177 non-null  object \n",
      " 3   health_status                95070 non-null  object \n",
      " 4   years_of_driving_experience  59679 non-null  float64\n",
      " 5   id                           95177 non-null  int64  \n",
      "dtypes: float64(1), int64(1), object(4)\n",
      "memory usage: 4.4+ MB\n"
     ]
    },
    {
     "data": {
      "text/html": [
       "<div>\n",
       "<style scoped>\n",
       "    .dataframe tbody tr th:only-of-type {\n",
       "        vertical-align: middle;\n",
       "    }\n",
       "\n",
       "    .dataframe tbody tr th {\n",
       "        vertical-align: top;\n",
       "    }\n",
       "\n",
       "    .dataframe thead th {\n",
       "        text-align: right;\n",
       "    }\n",
       "</style>\n",
       "<table border=\"1\" class=\"dataframe\">\n",
       "  <thead>\n",
       "    <tr style=\"text-align: right;\">\n",
       "      <th></th>\n",
       "      <th>role</th>\n",
       "      <th>gender</th>\n",
       "      <th>violations</th>\n",
       "      <th>health_status</th>\n",
       "      <th>years_of_driving_experience</th>\n",
       "      <th>id</th>\n",
       "    </tr>\n",
       "  </thead>\n",
       "  <tbody>\n",
       "    <tr>\n",
       "      <th>0</th>\n",
       "      <td>Водитель</td>\n",
       "      <td>Мужской</td>\n",
       "      <td>['Несоответствие скорости конкретным условиям ...</td>\n",
       "      <td>Раненый, находящийся (находившийся) на амбулат...</td>\n",
       "      <td>26.0</td>\n",
       "      <td>1983180</td>\n",
       "    </tr>\n",
       "    <tr>\n",
       "      <th>1</th>\n",
       "      <td>Водитель</td>\n",
       "      <td>Мужской</td>\n",
       "      <td>[]</td>\n",
       "      <td>Не пострадал</td>\n",
       "      <td>34.0</td>\n",
       "      <td>2889433</td>\n",
       "    </tr>\n",
       "    <tr>\n",
       "      <th>2</th>\n",
       "      <td>Пассажир</td>\n",
       "      <td>Мужской</td>\n",
       "      <td>[]</td>\n",
       "      <td>Раненый, находящийся (находившийся)  на амбула...</td>\n",
       "      <td>NaN</td>\n",
       "      <td>2591208</td>\n",
       "    </tr>\n",
       "    <tr>\n",
       "      <th>3</th>\n",
       "      <td>Пассажир</td>\n",
       "      <td>Мужской</td>\n",
       "      <td>[]</td>\n",
       "      <td>Раненый, находящийся (находившийся)  на амбула...</td>\n",
       "      <td>NaN</td>\n",
       "      <td>2591208</td>\n",
       "    </tr>\n",
       "    <tr>\n",
       "      <th>4</th>\n",
       "      <td>Водитель</td>\n",
       "      <td>Мужской</td>\n",
       "      <td>[]</td>\n",
       "      <td>Не пострадал</td>\n",
       "      <td>27.0</td>\n",
       "      <td>2577639</td>\n",
       "    </tr>\n",
       "  </tbody>\n",
       "</table>\n",
       "</div>"
      ],
      "text/plain": [
       "       role   gender                                         violations  \\\n",
       "0  Водитель  Мужской  ['Несоответствие скорости конкретным условиям ...   \n",
       "1  Водитель  Мужской                                                 []   \n",
       "2  Пассажир  Мужской                                                 []   \n",
       "3  Пассажир  Мужской                                                 []   \n",
       "4  Водитель  Мужской                                                 []   \n",
       "\n",
       "                                       health_status  \\\n",
       "0  Раненый, находящийся (находившийся) на амбулат...   \n",
       "1                                       Не пострадал   \n",
       "2  Раненый, находящийся (находившийся)  на амбула...   \n",
       "3  Раненый, находящийся (находившийся)  на амбула...   \n",
       "4                                       Не пострадал   \n",
       "\n",
       "   years_of_driving_experience       id  \n",
       "0                         26.0  1983180  \n",
       "1                         34.0  2889433  \n",
       "2                          NaN  2591208  \n",
       "3                          NaN  2591208  \n",
       "4                         27.0  2577639  "
      ]
     },
     "metadata": {},
     "output_type": "display_data"
    },
    {
     "data": {
      "text/html": [
       "<div>\n",
       "<style scoped>\n",
       "    .dataframe tbody tr th:only-of-type {\n",
       "        vertical-align: middle;\n",
       "    }\n",
       "\n",
       "    .dataframe tbody tr th {\n",
       "        vertical-align: top;\n",
       "    }\n",
       "\n",
       "    .dataframe thead th {\n",
       "        text-align: right;\n",
       "    }\n",
       "</style>\n",
       "<table border=\"1\" class=\"dataframe\">\n",
       "  <thead>\n",
       "    <tr style=\"text-align: right;\">\n",
       "      <th></th>\n",
       "      <th>role</th>\n",
       "      <th>gender</th>\n",
       "      <th>violations</th>\n",
       "      <th>health_status</th>\n",
       "      <th>years_of_driving_experience</th>\n",
       "      <th>id</th>\n",
       "    </tr>\n",
       "  </thead>\n",
       "  <tbody>\n",
       "    <tr>\n",
       "      <th>0</th>\n",
       "      <td>Водитель</td>\n",
       "      <td>Мужской</td>\n",
       "      <td>[]</td>\n",
       "      <td>Не пострадал</td>\n",
       "      <td>13.0</td>\n",
       "      <td>2163589</td>\n",
       "    </tr>\n",
       "    <tr>\n",
       "      <th>1</th>\n",
       "      <td>Водитель</td>\n",
       "      <td>Мужской</td>\n",
       "      <td>[]</td>\n",
       "      <td>Не пострадал</td>\n",
       "      <td>13.0</td>\n",
       "      <td>2163589</td>\n",
       "    </tr>\n",
       "    <tr>\n",
       "      <th>2</th>\n",
       "      <td>Водитель</td>\n",
       "      <td>Мужской</td>\n",
       "      <td>['Неправильный выбор дистанции']</td>\n",
       "      <td>Не пострадал</td>\n",
       "      <td>5.0</td>\n",
       "      <td>2155398</td>\n",
       "    </tr>\n",
       "    <tr>\n",
       "      <th>3</th>\n",
       "      <td>Водитель</td>\n",
       "      <td>Мужской</td>\n",
       "      <td>['Неправильный выбор дистанции']</td>\n",
       "      <td>Не пострадал</td>\n",
       "      <td>5.0</td>\n",
       "      <td>2155398</td>\n",
       "    </tr>\n",
       "    <tr>\n",
       "      <th>4</th>\n",
       "      <td>Водитель</td>\n",
       "      <td>Женский</td>\n",
       "      <td>[]</td>\n",
       "      <td>Не пострадал</td>\n",
       "      <td>11.0</td>\n",
       "      <td>2163319</td>\n",
       "    </tr>\n",
       "  </tbody>\n",
       "</table>\n",
       "</div>"
      ],
      "text/plain": [
       "       role   gender                        violations health_status  \\\n",
       "0  Водитель  Мужской                                []  Не пострадал   \n",
       "1  Водитель  Мужской                                []  Не пострадал   \n",
       "2  Водитель  Мужской  ['Неправильный выбор дистанции']  Не пострадал   \n",
       "3  Водитель  Мужской  ['Неправильный выбор дистанции']  Не пострадал   \n",
       "4  Водитель  Женский                                []  Не пострадал   \n",
       "\n",
       "   years_of_driving_experience       id  \n",
       "0                         13.0  2163589  \n",
       "1                         13.0  2163589  \n",
       "2                          5.0  2155398  \n",
       "3                          5.0  2155398  \n",
       "4                         11.0  2163319  "
      ]
     },
     "metadata": {},
     "output_type": "display_data"
    }
   ],
   "source": [
    "# Выводим общую информацию \n",
    "participants_k.info()\n",
    "participants_m.info()\n",
    "\n",
    "# Выводим первые строки\n",
    "display (participants_k.head())\n",
    "display (participants_m.head())"
   ]
  },
  {
   "cell_type": "markdown",
   "id": "c46462ff",
   "metadata": {},
   "source": [
    "В датафрейме `participants_k` (Кировская область) имеется 6 столбцов и  31235 записей, в `participants_m` (Московская область) 6 столбцов и 95177 записей.\n",
    "\n",
    "Пропуски наблюдаются в следующих полях: `gender` (пол), `health_status` (состояние) и `years_of_driving_experience` (стаж). \n",
    "Для пассажиров отсутствие стажа - это норма, но пропуски могут быть и у водителей, это требует проверки.\n",
    "\n",
    "Типы данных представлены корректно - в колонках, содержащих текст тип данных `object`, что логично. Столбцы `id` и `years_of_driving_experience` хранят числовые данные и представлены в соответствующих типах данных.\n",
    "\n",
    "Далее, посчитаем количество пропусков в датафреймах с участниками ДТП."
   ]
  },
  {
   "cell_type": "code",
   "execution_count": 25,
   "id": "c8d5bc24",
   "metadata": {},
   "outputs": [
    {
     "data": {
      "text/plain": [
       "years_of_driving_experience    35498\n",
       "gender                          1870\n",
       "health_status                    107\n",
       "role                               0\n",
       "violations                         0\n",
       "id                                 0\n",
       "dtype: int64"
      ]
     },
     "metadata": {},
     "output_type": "display_data"
    },
    {
     "data": {
      "text/plain": [
       "years_of_driving_experience    0.373\n",
       "gender                         0.020\n",
       "health_status                  0.001\n",
       "role                           0.000\n",
       "violations                     0.000\n",
       "id                             0.000\n",
       "dtype: float64"
      ]
     },
     "execution_count": 25,
     "metadata": {},
     "output_type": "execute_result"
    }
   ],
   "source": [
    "# Выводим количество пропущенных строк в датафрейме participants_m в абсолютном значении\n",
    "display (participants_m.isna().sum().sort_values(ascending=False))\n",
    "\n",
    "# Выводим долю строк с пропусками\n",
    "round ((participants_m.isna().sum() / len(participants_m)),3).sort_values(\n",
    "    ascending=False)"
   ]
  },
  {
   "cell_type": "markdown",
   "id": "2b4bb893",
   "metadata": {},
   "source": [
    "**Вывод по пропускам.** Наибольшее количество пропусков наблюдается в стаже вождения (Кировская область: 45.9% пропусков, Московская область: 37.3% пропусков. Это логично для пассажиров/пешеходов (не имеют стажа), либо это ошибки заполнения для водителей. \n",
    "\n",
    "По полю `gender` в Кировской область выявлено 2.7% пропусков, в Московской область: 2.0% пропусков, что некритично. Это могут быть ошибки при ручном вводе данных или нежелание участников указывать пол. Данное поле не окажет значимого влияния на анализ, оставим пропуски как есть.   \n",
    "\n",
    "В столбце со состоянием здоровья (`health_status`) минимальное число пропусков: 0.3% и 0.1%, возможно это технические ошибки при регистрациичто. В данном случае пропуски также оставим как есть.\n",
    "\n",
    "Посчитаем число и долю пропусков для водителей."
   ]
  },
  {
   "cell_type": "code",
   "execution_count": 26,
   "id": "518936f2",
   "metadata": {},
   "outputs": [
    {
     "data": {
      "text/plain": [
       "years_of_driving_experience    0.144\n",
       "gender                         0.037\n",
       "health_status                  0.005\n",
       "role                           0.000\n",
       "violations                     0.000\n",
       "id                             0.000\n",
       "dtype: float64"
      ]
     },
     "execution_count": 26,
     "metadata": {},
     "output_type": "execute_result"
    }
   ],
   "source": [
    "# Для Кировской области\n",
    "# Фильтруем водителей, приводим текст к нижнему регистру\n",
    "drivers_k = participants_k[participants_k['role'].str.lower() == \n",
    "                           'водитель']\n",
    "\n",
    "# Подсчитываем долю пропусков в категории водителей\n",
    "round ((drivers_k.isna().sum() / len(drivers_k)),3).sort_values(\n",
    "    ascending=False)"
   ]
  },
  {
   "cell_type": "code",
   "execution_count": 27,
   "id": "882e1cdc",
   "metadata": {},
   "outputs": [
    {
     "data": {
      "text/plain": [
       "years_of_driving_experience    0.075\n",
       "gender                         0.021\n",
       "health_status                  0.002\n",
       "role                           0.000\n",
       "violations                     0.000\n",
       "id                             0.000\n",
       "dtype: float64"
      ]
     },
     "execution_count": 27,
     "metadata": {},
     "output_type": "execute_result"
    }
   ],
   "source": [
    "# Для Московской области области\n",
    "# Фильтруем водителей, приводим текст к нижнему регистру\n",
    "drivers_m = participants_m[participants_m['role'].str.lower() == \n",
    "                           'водитель']\n",
    "\n",
    "# Подсчитываем долю пропусков в категории водителей\n",
    "round ((drivers_m.isna().sum() / len(drivers_m)),3).sort_values(\n",
    "    ascending=False)"
   ]
  },
  {
   "cell_type": "markdown",
   "id": "c07373d9",
   "metadata": {},
   "source": [
    "Мы видим, что число пропусков для водителей в столбце со стажем (`years_of_driving_experience`), составляет по Кировской области 14.4%, по Московской 7.5%. Для дальнейшего анализа категорий водителей по стажу, будет оптимально оставить все записи, в том числе и с пропусками, выделив категорию с неизвестным стажем. Так мы сохраним целостность данных и в дальнейшем, сможем проанализировать отличаются ли ДТП с неизвестным стажем.\n",
    "\n",
    "Далее, изучим уникальные значения в ключевых столбцах датафреймов об участниках ДТП."
   ]
  },
  {
   "cell_type": "code",
   "execution_count": 28,
   "id": "ca683b5e",
   "metadata": {},
   "outputs": [
    {
     "data": {
      "text/plain": [
       "'Уникальные значения в role:'"
      ]
     },
     "metadata": {},
     "output_type": "display_data"
    },
    {
     "data": {
      "text/plain": [
       "array(['Водитель', 'Пассажир', 'Велосипедист', 'Пешеход',\n",
       "       'Пешеход, перед ДТП находившийся в (на) ТС в качестве водителя или пешеход, перед ДТП находившийся в (на) ТС в качестве пассажира'],\n",
       "      dtype=object)"
      ]
     },
     "metadata": {},
     "output_type": "display_data"
    },
    {
     "data": {
      "text/plain": [
       "array(['Водитель', 'Пассажир', 'Велосипедист', 'Пешеход',\n",
       "       'Пешеход, перед ДТП находившийся в (на) ТС в качестве водителя или пешеход, перед ДТП находившийся в (на) ТС в качестве пассажира'],\n",
       "      dtype=object)"
      ]
     },
     "metadata": {},
     "output_type": "display_data"
    },
    {
     "data": {
      "text/plain": [
       "'--------------------------------------------------'"
      ]
     },
     "metadata": {},
     "output_type": "display_data"
    },
    {
     "data": {
      "text/plain": [
       "'Уникальные значения в gender:'"
      ]
     },
     "metadata": {},
     "output_type": "display_data"
    },
    {
     "data": {
      "text/plain": [
       "array(['Мужской', 'Женский', nan], dtype=object)"
      ]
     },
     "metadata": {},
     "output_type": "display_data"
    },
    {
     "data": {
      "text/plain": [
       "array(['Мужской', 'Женский', nan], dtype=object)"
      ]
     },
     "metadata": {},
     "output_type": "display_data"
    },
    {
     "data": {
      "text/plain": [
       "'--------------------------------------------------'"
      ]
     },
     "metadata": {},
     "output_type": "display_data"
    },
    {
     "data": {
      "text/plain": [
       "'Уникальные значения в health_status:'"
      ]
     },
     "metadata": {},
     "output_type": "display_data"
    },
    {
     "data": {
      "text/plain": [
       "array(['Раненый, находящийся (находившийся) на амбулаторном лечении, либо в условиях дневного стационара',\n",
       "       'Не пострадал',\n",
       "       'Раненый, находящийся (находившийся)  на амбулаторном лечении, либо которому по характеру полученных травм обозначена необходимость амбулаторного лечения (вне зависимости от его фактического прохождения)',\n",
       "       'Раненый, находящийся (находившийся) на стационарном лечении',\n",
       "       'Получил телесные повреждения с показанием к лечению в медицинских организациях (кроме разовой медицинской помощи)',\n",
       "       nan,\n",
       "       'Получил травмы с оказанием разовой медицинской помощи, к категории раненый не относится',\n",
       "       'Получил телесные повреждения с показанием к лечению в медицинских организациях, фактически лечение не проходил, к категории раненый не относится'],\n",
       "      dtype=object)"
      ]
     },
     "metadata": {},
     "output_type": "display_data"
    },
    {
     "data": {
      "text/plain": [
       "array(['Не пострадал',\n",
       "       'Раненый, находящийся (находившийся) на стационарном лечении',\n",
       "       'Раненый, находящийся (находившийся) на амбулаторном лечении, либо в условиях дневного стационара',\n",
       "       'Раненый, находящийся (находившийся)  на амбулаторном лечении, либо которому по характеру полученных травм обозначена необходимость амбулаторного лечения (вне зависимости от его фактического прохождения)',\n",
       "       'Получил телесные повреждения с показанием к лечению в медицинских организациях (кроме разовой медицинской помощи)',\n",
       "       'Получил травмы с оказанием разовой медицинской помощи, к категории раненый не относится',\n",
       "       nan,\n",
       "       'Получил телесные повреждения с показанием к лечению в медицинских организациях, фактически лечение не проходил, к категории раненый не относится'],\n",
       "      dtype=object)"
      ]
     },
     "metadata": {},
     "output_type": "display_data"
    },
    {
     "data": {
      "text/plain": [
       "'--------------------------------------------------'"
      ]
     },
     "metadata": {},
     "output_type": "display_data"
    },
    {
     "data": {
      "text/plain": [
       "'Уникальные значения в violations:'"
      ]
     },
     "metadata": {},
     "output_type": "display_data"
    },
    {
     "data": {
      "text/plain": [
       "array([\"['Несоответствие скорости конкретным условиям движения', 'Управление ТС в состоянии алкогольного опьянения']\",\n",
       "       '[]',\n",
       "       \"['Несоответствие скорости конкретным условиям движения', 'Управление ТС в состоянии алкогольного опьянения', 'Эксплуатация незарегистрированного ТС', 'Несоблюдение требований ОСАГО']\",\n",
       "       ...,\n",
       "       \"['Иные нарушения', 'Нахождение на проезжей части без цели её перехода', 'Пешеход в состоянии алкогольного опьянения']\",\n",
       "       \"['Игра на проезжей части', 'Иные нарушения', 'Нахождение на проезжей части без цели её перехода']\",\n",
       "       \"['Неподчинение сигналам регулирования', 'Неожиданный выход из-за ТС']\"],\n",
       "      dtype=object)"
      ]
     },
     "metadata": {},
     "output_type": "display_data"
    },
    {
     "data": {
      "text/plain": [
       "array(['[]', \"['Неправильный выбор дистанции']\",\n",
       "       \"['Несоблюдение очередности проезда перекрестков']\", ...,\n",
       "       \"['Движение вдоль проезжей части попутного направления вне населенного пункта при удовлетворительном состоянии обочины', 'Пешеход в состоянии алкогольного опьянения', 'Отсутствие световозвращающих элементов']\",\n",
       "       \"['Переход через проезжую часть вне пешеходного перехода в зоне его видимости либо при наличии в непосредственной близости подземного (надземного) пешеходного перехода', 'Неожиданный выход из-за стоящего ТС', 'Отсутствие световозвращающих элементов']\",\n",
       "       \"['Игра на проезжей части', 'Нахождение на проезжей части без цели её перехода']\"],\n",
       "      dtype=object)"
      ]
     },
     "metadata": {},
     "output_type": "display_data"
    },
    {
     "data": {
      "text/plain": [
       "'--------------------------------------------------'"
      ]
     },
     "metadata": {},
     "output_type": "display_data"
    }
   ],
   "source": [
    "# Проверяем уникальных значений в ключевых столбцах датафреймов\n",
    "for column in ['role','gender', 'health_status','violations']:\n",
    "    display(f\"Уникальные значения в {column}:\")\n",
    "    display(participants_k[column].unique())  # Для Кировской области\n",
    "    display(participants_m[column].unique())  # Для Московской области\n",
    "    display(\"-\" * 50)"
   ]
  },
  {
   "cell_type": "markdown",
   "id": "e8854bc4",
   "metadata": {},
   "source": [
    "Среди уникальных значений в категориальных столбцах не обнаружены скрытые пропуски и дублирующиеся значения.\n",
    "\n",
    "Далее, изучим распределение числовых данных в столбце со стажем - `years_of_driving_experience`. Выведим статичтические показатели по данному столбцу."
   ]
  },
  {
   "cell_type": "code",
   "execution_count": 29,
   "id": "d2ea81e0",
   "metadata": {},
   "outputs": [
    {
     "data": {
      "text/plain": [
       "count    16909.0\n",
       "mean        16.1\n",
       "std         11.9\n",
       "min          1.0\n",
       "25%          7.0\n",
       "50%         14.0\n",
       "75%         23.0\n",
       "95%         40.0\n",
       "max         66.0\n",
       "Name: years_of_driving_experience, dtype: float64"
      ]
     },
     "metadata": {},
     "output_type": "display_data"
    },
    {
     "data": {
      "text/plain": [
       "count    59679.0\n",
       "mean        15.6\n",
       "std         11.2\n",
       "min          1.0\n",
       "25%          7.0\n",
       "50%         14.0\n",
       "75%         22.0\n",
       "95%         38.0\n",
       "max         69.0\n",
       "Name: years_of_driving_experience, dtype: float64"
      ]
     },
     "metadata": {},
     "output_type": "display_data"
    }
   ],
   "source": [
    "# Выводим статистические данные столбца years_of_driving_experience методом describe\n",
    "# Кировская область\n",
    "stats_experience_k = participants_k['years_of_driving_experience'\n",
    "                     ].describe(percentiles=[.25, .5, .75, .95])\n",
    "display(stats_experience_k.round(1))\n",
    "\n",
    "# Московская область\n",
    "stats_experience_m = participants_m['years_of_driving_experience'\n",
    "                     ].describe(percentiles=[.25, .50, .75, .95])\n",
    "display(stats_experience_m.round(1))"
   ]
  },
  {
   "cell_type": "markdown",
   "id": "4f91708e",
   "metadata": {},
   "source": [
    "Мы видим, что типичное количество лет водительского стажа в обоих областях 14 лет (медиана = 14). Средний стаж (16.1 и 15.6 соответственно) превышает медиану, что указывает на то, что группа опытных водителей \"тянет\" среднее значение вверх. 95% водителей имеют стаж до 40 лет в Кировской и 38 в Московской области. Выявлены экстремальные значения до 66 и 69 лет, которые требуют дополнительной проверки на корректность. Минимальное значение 1 год, что допустимо. \n",
    "\n",
    "Проверим аномальные значения."
   ]
  },
  {
   "cell_type": "code",
   "execution_count": 30,
   "id": "a37309b5",
   "metadata": {},
   "outputs": [
    {
     "data": {
      "text/plain": [
       "'Водители с экстремальным стажем (>40 лет): 747 записей'"
      ]
     },
     "metadata": {},
     "output_type": "display_data"
    },
    {
     "name": "stdout",
     "output_type": "stream",
     "text": [
      "\n",
      "Проверяем записи со стажем 66 лет:\n"
     ]
    },
    {
     "data": {
      "text/html": [
       "<div>\n",
       "<style scoped>\n",
       "    .dataframe tbody tr th:only-of-type {\n",
       "        vertical-align: middle;\n",
       "    }\n",
       "\n",
       "    .dataframe tbody tr th {\n",
       "        vertical-align: top;\n",
       "    }\n",
       "\n",
       "    .dataframe thead th {\n",
       "        text-align: right;\n",
       "    }\n",
       "</style>\n",
       "<table border=\"1\" class=\"dataframe\">\n",
       "  <thead>\n",
       "    <tr style=\"text-align: right;\">\n",
       "      <th></th>\n",
       "      <th>role</th>\n",
       "      <th>gender</th>\n",
       "    </tr>\n",
       "  </thead>\n",
       "  <tbody>\n",
       "    <tr>\n",
       "      <th>17096</th>\n",
       "      <td>Водитель</td>\n",
       "      <td>Мужской</td>\n",
       "    </tr>\n",
       "    <tr>\n",
       "      <th>17097</th>\n",
       "      <td>Водитель</td>\n",
       "      <td>Мужской</td>\n",
       "    </tr>\n",
       "    <tr>\n",
       "      <th>17098</th>\n",
       "      <td>Водитель</td>\n",
       "      <td>Мужской</td>\n",
       "    </tr>\n",
       "  </tbody>\n",
       "</table>\n",
       "</div>"
      ],
      "text/plain": [
       "           role   gender\n",
       "17096  Водитель  Мужской\n",
       "17097  Водитель  Мужской\n",
       "17098  Водитель  Мужской"
      ]
     },
     "metadata": {},
     "output_type": "display_data"
    }
   ],
   "source": [
    "# Кировская область\n",
    "# Считаем Водителей со стажем >40 лет (верхние 5%)\n",
    "top_5_perc_k =  participants_k[ participants_k['years_of_driving_experience'] > 40]\n",
    "display(f\"Водители с экстремальным стажем (>40 лет): {len(top_5_perc_k)} записей\")\n",
    "\n",
    "# Проверка максимального значения (66 лет)\n",
    "if participants_k['years_of_driving_experience'].max() == 66:\n",
    "    print(\"\\nПроверяем записи со стажем 66 лет:\")\n",
    "    display(participants_k[participants_k['years_of_driving_experience'] == 66][['role',\n",
    "                                                                   'gender']])"
   ]
  },
  {
   "cell_type": "code",
   "execution_count": 31,
   "id": "d9e2d8a8",
   "metadata": {},
   "outputs": [
    {
     "data": {
      "text/plain": [
       "'Водители с экстремальным стажем (>38 лет): 2750 записей'"
      ]
     },
     "metadata": {},
     "output_type": "display_data"
    },
    {
     "name": "stdout",
     "output_type": "stream",
     "text": [
      "\n",
      "Проверяем записи со стажем 69 лет:\n"
     ]
    },
    {
     "data": {
      "text/html": [
       "<div>\n",
       "<style scoped>\n",
       "    .dataframe tbody tr th:only-of-type {\n",
       "        vertical-align: middle;\n",
       "    }\n",
       "\n",
       "    .dataframe tbody tr th {\n",
       "        vertical-align: top;\n",
       "    }\n",
       "\n",
       "    .dataframe thead th {\n",
       "        text-align: right;\n",
       "    }\n",
       "</style>\n",
       "<table border=\"1\" class=\"dataframe\">\n",
       "  <thead>\n",
       "    <tr style=\"text-align: right;\">\n",
       "      <th></th>\n",
       "      <th>role</th>\n",
       "      <th>gender</th>\n",
       "    </tr>\n",
       "  </thead>\n",
       "  <tbody>\n",
       "    <tr>\n",
       "      <th>44198</th>\n",
       "      <td>Водитель</td>\n",
       "      <td>Мужской</td>\n",
       "    </tr>\n",
       "    <tr>\n",
       "      <th>44199</th>\n",
       "      <td>Водитель</td>\n",
       "      <td>Мужской</td>\n",
       "    </tr>\n",
       "  </tbody>\n",
       "</table>\n",
       "</div>"
      ],
      "text/plain": [
       "           role   gender\n",
       "44198  Водитель  Мужской\n",
       "44199  Водитель  Мужской"
      ]
     },
     "metadata": {},
     "output_type": "display_data"
    }
   ],
   "source": [
    "# Московская область\n",
    "# Считаем Водителей со стажем >40 лет (верхние 5%)\n",
    "top_5_perc_m =  participants_m[ participants_m['years_of_driving_experience'] > 38]\n",
    "display(f\"Водители с экстремальным стажем (>38 лет): {len(top_5_perc_m)} записей\")\n",
    "\n",
    "# Проверка максимального значения (69 лет)\n",
    "if participants_m['years_of_driving_experience'].max() == 69:\n",
    "    print(\"\\nПроверяем записи со стажем 69 лет:\")\n",
    "    display(participants_m[participants_m['years_of_driving_experience'] == 69][['role',\n",
    "                                                                    'gender']])     "
   ]
  },
  {
   "cell_type": "markdown",
   "id": "0fe148cb",
   "metadata": {},
   "source": [
    "В данных обнаружено:\n",
    "\n",
    "- 747 (4.4%) водителей Кировской области со стажем больше 40 лет, 3 случая с 66 годами стажа  (максимальное значение), это физически маловероятно.\n",
    "\n",
    "- 2750 (4.6) водителей Московской области со стажем больше 38 лет, 2 случая с 69 годами стажа   (максимальное значение), это также очевидная ошибка.\n",
    "\n",
    "Стаж от 40 до 60 лет является экстремальным, но возможным в редких случаях (пенсионный возраст). Стаж  более 60 лет требует получения прав до 14 лет, это невозможно. Удалим аномальные строки, с более чем 60 годами стажа. "
   ]
  },
  {
   "cell_type": "code",
   "execution_count": 32,
   "id": "e95c01df",
   "metadata": {},
   "outputs": [
    {
     "data": {
      "text/plain": [
       "'Число удаленных строк для Кировской области: 12'"
      ]
     },
     "metadata": {},
     "output_type": "display_data"
    },
    {
     "data": {
      "text/plain": [
       "'Процент удаленных строк для Кировской области: 0.04%'"
      ]
     },
     "metadata": {},
     "output_type": "display_data"
    },
    {
     "data": {
      "text/plain": [
       "'Число удаленных строк для Московской области: 49'"
      ]
     },
     "metadata": {},
     "output_type": "display_data"
    },
    {
     "data": {
      "text/plain": [
       "'Процент удаленных строк для Московской области: 0.05%'"
      ]
     },
     "metadata": {},
     "output_type": "display_data"
    }
   ],
   "source": [
    "# Для Кировской области\n",
    "participants_k = participants_k[participants_k['years_of_driving_experience'\n",
    "                ].isna() | (participants_k['years_of_driving_experience'] <= 60)]\n",
    "\n",
    "# Для Московской области\n",
    "participants_m = participants_m[participants_m['years_of_driving_experience'\n",
    "                ].isna() | (participants_m['years_of_driving_experience'] <= 60)]\n",
    "\n",
    "# Посчитаем число удаленных строк\n",
    "display (f'Число удаленных строк для Кировской области: {len_k - len (participants_k)}')\n",
    "perc_del_k = ((len_k - len (participants_k)) / len (participants_k))*100\n",
    "display (f'Процент удаленных строк для Кировской области: {round(perc_del_k,2)}%')\n",
    "\n",
    "display (f'Число удаленных строк для Московской области: {len_m - len (participants_m)}')\n",
    "perc_del_m = ((len_m - len (participants_m)) / len (participants_m))*100\n",
    "display (f'Процент удаленных строк для Московской области: {round(perc_del_m,2)}%')"
   ]
  },
  {
   "cell_type": "markdown",
   "id": "f2151a76",
   "metadata": {},
   "source": [
    "Данные очищены от аномальных значений - 60 и более лет стажа (0.04% Кировская область, 0.05% Московская область). Теперь выделим категории водителей по стажу."
   ]
  },
  {
   "cell_type": "code",
   "execution_count": 33,
   "id": "7960e2e2",
   "metadata": {},
   "outputs": [
    {
     "data": {
      "text/html": [
       "<div>\n",
       "<style scoped>\n",
       "    .dataframe tbody tr th:only-of-type {\n",
       "        vertical-align: middle;\n",
       "    }\n",
       "\n",
       "    .dataframe tbody tr th {\n",
       "        vertical-align: top;\n",
       "    }\n",
       "\n",
       "    .dataframe thead th {\n",
       "        text-align: right;\n",
       "    }\n",
       "</style>\n",
       "<table border=\"1\" class=\"dataframe\">\n",
       "  <thead>\n",
       "    <tr style=\"text-align: right;\">\n",
       "      <th></th>\n",
       "      <th>role</th>\n",
       "      <th>gender</th>\n",
       "      <th>violations</th>\n",
       "      <th>health_status</th>\n",
       "      <th>years_of_driving_experience</th>\n",
       "      <th>id</th>\n",
       "      <th>categorize_experience</th>\n",
       "    </tr>\n",
       "  </thead>\n",
       "  <tbody>\n",
       "    <tr>\n",
       "      <th>0</th>\n",
       "      <td>Водитель</td>\n",
       "      <td>Мужской</td>\n",
       "      <td>['Несоответствие скорости конкретным условиям ...</td>\n",
       "      <td>Раненый, находящийся (находившийся) на амбулат...</td>\n",
       "      <td>26.0</td>\n",
       "      <td>1983180</td>\n",
       "      <td>Эксперт (20-30 лет)</td>\n",
       "    </tr>\n",
       "    <tr>\n",
       "      <th>1</th>\n",
       "      <td>Водитель</td>\n",
       "      <td>Мужской</td>\n",
       "      <td>[]</td>\n",
       "      <td>Не пострадал</td>\n",
       "      <td>34.0</td>\n",
       "      <td>2889433</td>\n",
       "      <td>Профессионал (30-40 лет)</td>\n",
       "    </tr>\n",
       "    <tr>\n",
       "      <th>2</th>\n",
       "      <td>Пассажир</td>\n",
       "      <td>Мужской</td>\n",
       "      <td>[]</td>\n",
       "      <td>Раненый, находящийся (находившийся)  на амбула...</td>\n",
       "      <td>NaN</td>\n",
       "      <td>2591208</td>\n",
       "      <td>Нет данных о стаже</td>\n",
       "    </tr>\n",
       "    <tr>\n",
       "      <th>3</th>\n",
       "      <td>Пассажир</td>\n",
       "      <td>Мужской</td>\n",
       "      <td>[]</td>\n",
       "      <td>Раненый, находящийся (находившийся)  на амбула...</td>\n",
       "      <td>NaN</td>\n",
       "      <td>2591208</td>\n",
       "      <td>Нет данных о стаже</td>\n",
       "    </tr>\n",
       "    <tr>\n",
       "      <th>4</th>\n",
       "      <td>Водитель</td>\n",
       "      <td>Мужской</td>\n",
       "      <td>[]</td>\n",
       "      <td>Не пострадал</td>\n",
       "      <td>27.0</td>\n",
       "      <td>2577639</td>\n",
       "      <td>Эксперт (20-30 лет)</td>\n",
       "    </tr>\n",
       "  </tbody>\n",
       "</table>\n",
       "</div>"
      ],
      "text/plain": [
       "       role   gender                                         violations  \\\n",
       "0  Водитель  Мужской  ['Несоответствие скорости конкретным условиям ...   \n",
       "1  Водитель  Мужской                                                 []   \n",
       "2  Пассажир  Мужской                                                 []   \n",
       "3  Пассажир  Мужской                                                 []   \n",
       "4  Водитель  Мужской                                                 []   \n",
       "\n",
       "                                       health_status  \\\n",
       "0  Раненый, находящийся (находившийся) на амбулат...   \n",
       "1                                       Не пострадал   \n",
       "2  Раненый, находящийся (находившийся)  на амбула...   \n",
       "3  Раненый, находящийся (находившийся)  на амбула...   \n",
       "4                                       Не пострадал   \n",
       "\n",
       "   years_of_driving_experience       id     categorize_experience  \n",
       "0                         26.0  1983180       Эксперт (20-30 лет)  \n",
       "1                         34.0  2889433  Профессионал (30-40 лет)  \n",
       "2                          NaN  2591208        Нет данных о стаже  \n",
       "3                          NaN  2591208        Нет данных о стаже  \n",
       "4                         27.0  2577639       Эксперт (20-30 лет)  "
      ]
     },
     "metadata": {},
     "output_type": "display_data"
    },
    {
     "data": {
      "text/html": [
       "<div>\n",
       "<style scoped>\n",
       "    .dataframe tbody tr th:only-of-type {\n",
       "        vertical-align: middle;\n",
       "    }\n",
       "\n",
       "    .dataframe tbody tr th {\n",
       "        vertical-align: top;\n",
       "    }\n",
       "\n",
       "    .dataframe thead th {\n",
       "        text-align: right;\n",
       "    }\n",
       "</style>\n",
       "<table border=\"1\" class=\"dataframe\">\n",
       "  <thead>\n",
       "    <tr style=\"text-align: right;\">\n",
       "      <th></th>\n",
       "      <th>role</th>\n",
       "      <th>gender</th>\n",
       "      <th>violations</th>\n",
       "      <th>health_status</th>\n",
       "      <th>years_of_driving_experience</th>\n",
       "      <th>id</th>\n",
       "      <th>categorize_experience</th>\n",
       "    </tr>\n",
       "  </thead>\n",
       "  <tbody>\n",
       "    <tr>\n",
       "      <th>0</th>\n",
       "      <td>Водитель</td>\n",
       "      <td>Мужской</td>\n",
       "      <td>[]</td>\n",
       "      <td>Не пострадал</td>\n",
       "      <td>13.0</td>\n",
       "      <td>2163589</td>\n",
       "      <td>Опытный водитель (10-20 лет)</td>\n",
       "    </tr>\n",
       "    <tr>\n",
       "      <th>1</th>\n",
       "      <td>Водитель</td>\n",
       "      <td>Мужской</td>\n",
       "      <td>[]</td>\n",
       "      <td>Не пострадал</td>\n",
       "      <td>13.0</td>\n",
       "      <td>2163589</td>\n",
       "      <td>Опытный водитель (10-20 лет)</td>\n",
       "    </tr>\n",
       "    <tr>\n",
       "      <th>2</th>\n",
       "      <td>Водитель</td>\n",
       "      <td>Мужской</td>\n",
       "      <td>['Неправильный выбор дистанции']</td>\n",
       "      <td>Не пострадал</td>\n",
       "      <td>5.0</td>\n",
       "      <td>2155398</td>\n",
       "      <td>Водитель с опытом (5-10 лет)</td>\n",
       "    </tr>\n",
       "    <tr>\n",
       "      <th>3</th>\n",
       "      <td>Водитель</td>\n",
       "      <td>Мужской</td>\n",
       "      <td>['Неправильный выбор дистанции']</td>\n",
       "      <td>Не пострадал</td>\n",
       "      <td>5.0</td>\n",
       "      <td>2155398</td>\n",
       "      <td>Водитель с опытом (5-10 лет)</td>\n",
       "    </tr>\n",
       "    <tr>\n",
       "      <th>4</th>\n",
       "      <td>Водитель</td>\n",
       "      <td>Женский</td>\n",
       "      <td>[]</td>\n",
       "      <td>Не пострадал</td>\n",
       "      <td>11.0</td>\n",
       "      <td>2163319</td>\n",
       "      <td>Опытный водитель (10-20 лет)</td>\n",
       "    </tr>\n",
       "  </tbody>\n",
       "</table>\n",
       "</div>"
      ],
      "text/plain": [
       "       role   gender                        violations health_status  \\\n",
       "0  Водитель  Мужской                                []  Не пострадал   \n",
       "1  Водитель  Мужской                                []  Не пострадал   \n",
       "2  Водитель  Мужской  ['Неправильный выбор дистанции']  Не пострадал   \n",
       "3  Водитель  Мужской  ['Неправильный выбор дистанции']  Не пострадал   \n",
       "4  Водитель  Женский                                []  Не пострадал   \n",
       "\n",
       "   years_of_driving_experience       id         categorize_experience  \n",
       "0                         13.0  2163589  Опытный водитель (10-20 лет)  \n",
       "1                         13.0  2163589  Опытный водитель (10-20 лет)  \n",
       "2                          5.0  2155398  Водитель с опытом (5-10 лет)  \n",
       "3                          5.0  2155398  Водитель с опытом (5-10 лет)  \n",
       "4                         11.0  2163319  Опытный водитель (10-20 лет)  "
      ]
     },
     "metadata": {},
     "output_type": "display_data"
    }
   ],
   "source": [
    "# Функция для категоризации водителей по стажу\n",
    "''' Функция определяет к какой категории отнести стаж водителя,\n",
    "     на вход принимает один аргумент years_of_experience - количество лет стажа '''\n",
    "def categorize_experience(years_of_experience):\n",
    "    if years_of_experience >=1 and years_of_experience < 5:\n",
    "        return 'Начинающий водитель (менее 5 лет)'\n",
    "    elif years_of_experience >=5 and years_of_experience < 10:\n",
    "        return 'Водитель с опытом (5-10 лет)'\n",
    "    elif years_of_experience >=10 and years_of_experience < 20:\n",
    "        return 'Опытный водитель (10-20 лет)'\n",
    "    elif years_of_experience >=20 and years_of_experience < 30:\n",
    "        return 'Эксперт (20-30 лет)'\n",
    "    elif years_of_experience >=30 and years_of_experience < 40:\n",
    "        return 'Профессионал (30-40 лет)' \n",
    "    elif years_of_experience >=40 and years_of_experience <= 50:\n",
    "        return 'Профессионал высшего уровня (40-50 лет)' \n",
    "    elif years_of_experience >50:\n",
    "        return 'Ветеран (>50 лет)'\n",
    "    else:\n",
    "        return 'Нет данных о стаже'\n",
    "\n",
    "# Применяем функцию к данным для Кировской области \n",
    "participants_k ['categorize_experience'] = participants_k['years_of_driving_experience'\n",
    "                                                ].apply(categorize_experience)\n",
    "# Применяем функцию к данным для Московской области \n",
    "participants_m ['categorize_experience'] = participants_m['years_of_driving_experience'\n",
    "                                                ].apply(categorize_experience)\n",
    "\n",
    "display (participants_k.head())\n",
    "display (participants_m.head())"
   ]
  },
  {
   "cell_type": "markdown",
   "id": "29c2fa37",
   "metadata": {},
   "source": [
    "Категоризация прошла успешно. Далее, определим, существуют ли категории, которые значительно отличаются по числу ДТП."
   ]
  },
  {
   "cell_type": "code",
   "execution_count": 34,
   "id": "e217a5ec",
   "metadata": {},
   "outputs": [
    {
     "data": {
      "text/html": [
       "<div>\n",
       "<style scoped>\n",
       "    .dataframe tbody tr th:only-of-type {\n",
       "        vertical-align: middle;\n",
       "    }\n",
       "\n",
       "    .dataframe tbody tr th {\n",
       "        vertical-align: top;\n",
       "    }\n",
       "\n",
       "    .dataframe thead th {\n",
       "        text-align: right;\n",
       "    }\n",
       "</style>\n",
       "<table border=\"1\" class=\"dataframe\">\n",
       "  <thead>\n",
       "    <tr style=\"text-align: right;\">\n",
       "      <th></th>\n",
       "      <th>categorize_experience</th>\n",
       "      <th>id</th>\n",
       "    </tr>\n",
       "  </thead>\n",
       "  <tbody>\n",
       "    <tr>\n",
       "      <th>4</th>\n",
       "      <td>Опытный водитель (10-20 лет)</td>\n",
       "      <td>3456</td>\n",
       "    </tr>\n",
       "    <tr>\n",
       "      <th>1</th>\n",
       "      <td>Водитель с опытом (5-10 лет)</td>\n",
       "      <td>2137</td>\n",
       "    </tr>\n",
       "    <tr>\n",
       "      <th>7</th>\n",
       "      <td>Эксперт (20-30 лет)</td>\n",
       "      <td>1945</td>\n",
       "    </tr>\n",
       "    <tr>\n",
       "      <th>2</th>\n",
       "      <td>Начинающий водитель (менее 5 лет)</td>\n",
       "      <td>1913</td>\n",
       "    </tr>\n",
       "    <tr>\n",
       "      <th>3</th>\n",
       "      <td>Нет данных о стаже</td>\n",
       "      <td>1881</td>\n",
       "    </tr>\n",
       "    <tr>\n",
       "      <th>5</th>\n",
       "      <td>Профессионал (30-40 лет)</td>\n",
       "      <td>1112</td>\n",
       "    </tr>\n",
       "    <tr>\n",
       "      <th>6</th>\n",
       "      <td>Профессионал высшего уровня (40-50 лет)</td>\n",
       "      <td>507</td>\n",
       "    </tr>\n",
       "    <tr>\n",
       "      <th>0</th>\n",
       "      <td>Ветеран (&gt;50 лет)</td>\n",
       "      <td>68</td>\n",
       "    </tr>\n",
       "  </tbody>\n",
       "</table>\n",
       "</div>"
      ],
      "text/plain": [
       "                     categorize_experience    id\n",
       "4             Опытный водитель (10-20 лет)  3456\n",
       "1             Водитель с опытом (5-10 лет)  2137\n",
       "7                      Эксперт (20-30 лет)  1945\n",
       "2        Начинающий водитель (менее 5 лет)  1913\n",
       "3                       Нет данных о стаже  1881\n",
       "5                 Профессионал (30-40 лет)  1112\n",
       "6  Профессионал высшего уровня (40-50 лет)   507\n",
       "0                        Ветеран (>50 лет)    68"
      ]
     },
     "metadata": {},
     "output_type": "display_data"
    },
    {
     "data": {
      "text/html": [
       "<div>\n",
       "<style scoped>\n",
       "    .dataframe tbody tr th:only-of-type {\n",
       "        vertical-align: middle;\n",
       "    }\n",
       "\n",
       "    .dataframe tbody tr th {\n",
       "        vertical-align: top;\n",
       "    }\n",
       "\n",
       "    .dataframe thead th {\n",
       "        text-align: right;\n",
       "    }\n",
       "</style>\n",
       "<table border=\"1\" class=\"dataframe\">\n",
       "  <thead>\n",
       "    <tr style=\"text-align: right;\">\n",
       "      <th></th>\n",
       "      <th>categorize_experience</th>\n",
       "      <th>id</th>\n",
       "    </tr>\n",
       "  </thead>\n",
       "  <tbody>\n",
       "    <tr>\n",
       "      <th>4</th>\n",
       "      <td>Опытный водитель (10-20 лет)</td>\n",
       "      <td>11708</td>\n",
       "    </tr>\n",
       "    <tr>\n",
       "      <th>1</th>\n",
       "      <td>Водитель с опытом (5-10 лет)</td>\n",
       "      <td>6946</td>\n",
       "    </tr>\n",
       "    <tr>\n",
       "      <th>7</th>\n",
       "      <td>Эксперт (20-30 лет)</td>\n",
       "      <td>6511</td>\n",
       "    </tr>\n",
       "    <tr>\n",
       "      <th>2</th>\n",
       "      <td>Начинающий водитель (менее 5 лет)</td>\n",
       "      <td>5544</td>\n",
       "    </tr>\n",
       "    <tr>\n",
       "      <th>5</th>\n",
       "      <td>Профессионал (30-40 лет)</td>\n",
       "      <td>3029</td>\n",
       "    </tr>\n",
       "    <tr>\n",
       "      <th>3</th>\n",
       "      <td>Нет данных о стаже</td>\n",
       "      <td>2805</td>\n",
       "    </tr>\n",
       "    <tr>\n",
       "      <th>6</th>\n",
       "      <td>Профессионал высшего уровня (40-50 лет)</td>\n",
       "      <td>1170</td>\n",
       "    </tr>\n",
       "    <tr>\n",
       "      <th>0</th>\n",
       "      <td>Ветеран (&gt;50 лет)</td>\n",
       "      <td>214</td>\n",
       "    </tr>\n",
       "  </tbody>\n",
       "</table>\n",
       "</div>"
      ],
      "text/plain": [
       "                     categorize_experience     id\n",
       "4             Опытный водитель (10-20 лет)  11708\n",
       "1             Водитель с опытом (5-10 лет)   6946\n",
       "7                      Эксперт (20-30 лет)   6511\n",
       "2        Начинающий водитель (менее 5 лет)   5544\n",
       "5                 Профессионал (30-40 лет)   3029\n",
       "3                       Нет данных о стаже   2805\n",
       "6  Профессионал высшего уровня (40-50 лет)   1170\n",
       "0                        Ветеран (>50 лет)    214"
      ]
     },
     "metadata": {},
     "output_type": "display_data"
    }
   ],
   "source": [
    "# Отфильтруем только водителей для Кировской области \n",
    "drivers_filter_k = participants_k[participants_k['role'].str.lower() == \n",
    "                           'водитель']\n",
    "\n",
    "# Сгруппируем по категории стажа и посчитаем число водителей в каждой категории\n",
    "group_categorize_experience_k = drivers_filter_k.groupby ('categorize_experience'\n",
    "        )['id'].nunique().reset_index().sort_values(by ='id', ascending=False)\n",
    "\n",
    "display(group_categorize_experience_k)\n",
    "\n",
    "\n",
    "# Отфильтруем только водителей для Московской области \n",
    "drivers_filter_m = participants_m[participants_m['role'].str.lower() == \n",
    "                           'водитель']\n",
    "\n",
    "# Сгруппируем по категории стажа и посчитаем число водителей в каждой категории\n",
    "group_categorize_experience_m = drivers_filter_m.groupby ('categorize_experience'\n",
    "        )['id'].nunique().reset_index().sort_values(by ='id', ascending=False)\n",
    "\n",
    "display(group_categorize_experience_m)"
   ]
  },
  {
   "cell_type": "markdown",
   "id": "3fb19d33",
   "metadata": {},
   "source": [
    "Мы наблюдаем, что по обоим регионам  опыт снижает аварийность (снижение происходит в категории 20-30 лет: КО 1945 аварий, МО 6511 аварий), также можно заметить, что самый опасный период — это от 5 до 20 лет стажа (КО: 10-20 лет - 3456, 5-10 лет 2137,МО: 10-20 лет - 11708, 5-10 лет - 6946), когда водители теряют бдительность, но ещё не достигают уровня профессионалов.\n",
    "\n",
    "### Как менялось число аварий в Кировской и Московской области по годам. Где аварий больше в относительном выражении — в пересчёте на 100 тысяч жителей.\n",
    "\n",
    "Выделим год из даты в датафреймах `df_k` и `df_m`."
   ]
  },
  {
   "cell_type": "code",
   "execution_count": 35,
   "id": "43f90bd9",
   "metadata": {},
   "outputs": [
    {
     "data": {
      "text/html": [
       "<div>\n",
       "<style scoped>\n",
       "    .dataframe tbody tr th:only-of-type {\n",
       "        vertical-align: middle;\n",
       "    }\n",
       "\n",
       "    .dataframe tbody tr th {\n",
       "        vertical-align: top;\n",
       "    }\n",
       "\n",
       "    .dataframe thead th {\n",
       "        text-align: right;\n",
       "    }\n",
       "</style>\n",
       "<table border=\"1\" class=\"dataframe\">\n",
       "  <thead>\n",
       "    <tr style=\"text-align: right;\">\n",
       "      <th></th>\n",
       "      <th>geometry_coordinates</th>\n",
       "      <th>id</th>\n",
       "      <th>properties_tags</th>\n",
       "      <th>properties_light</th>\n",
       "      <th>properties_point_lat</th>\n",
       "      <th>properties_point_long</th>\n",
       "      <th>properties_nearby</th>\n",
       "      <th>properties_region</th>\n",
       "      <th>properties_scheme</th>\n",
       "      <th>properties_address</th>\n",
       "      <th>...</th>\n",
       "      <th>properties_category</th>\n",
       "      <th>properties_datetime</th>\n",
       "      <th>properties_injured_count</th>\n",
       "      <th>properties_parent_region</th>\n",
       "      <th>properties_road_conditions</th>\n",
       "      <th>properties_participants_count</th>\n",
       "      <th>properties_participant_categories</th>\n",
       "      <th>day_of_week</th>\n",
       "      <th>month_dtp</th>\n",
       "      <th>year_dtp</th>\n",
       "    </tr>\n",
       "  </thead>\n",
       "  <tbody>\n",
       "    <tr>\n",
       "      <th>0</th>\n",
       "      <td>[47.875603, 57.24379]</td>\n",
       "      <td>1983180</td>\n",
       "      <td>Дорожно-транспортные происшествия</td>\n",
       "      <td>Светлое время суток</td>\n",
       "      <td>57.243790</td>\n",
       "      <td>47.875603</td>\n",
       "      <td>[]</td>\n",
       "      <td>Яранский район</td>\n",
       "      <td>600.0</td>\n",
       "      <td>Р-176 Вятка Чебоксары - Йошкар-Ола - Киров - С...</td>\n",
       "      <td>...</td>\n",
       "      <td>Опрокидывание</td>\n",
       "      <td>2017-07-01 18:00:00</td>\n",
       "      <td>1</td>\n",
       "      <td>Кировская область</td>\n",
       "      <td>['Мокрое']</td>\n",
       "      <td>3</td>\n",
       "      <td>['Все участники']</td>\n",
       "      <td>Суббота</td>\n",
       "      <td>Июль</td>\n",
       "      <td>2017</td>\n",
       "    </tr>\n",
       "    <tr>\n",
       "      <th>1</th>\n",
       "      <td>[47.87903, 57.304807]</td>\n",
       "      <td>2889433</td>\n",
       "      <td>Дорожно-транспортные происшествия</td>\n",
       "      <td>Светлое время суток</td>\n",
       "      <td>57.304806</td>\n",
       "      <td>47.879028</td>\n",
       "      <td>['Административные здания', 'Нерегулируемый пе...</td>\n",
       "      <td>Яранский район</td>\n",
       "      <td>710.0</td>\n",
       "      <td>г Яранск, ул Кирова, 10</td>\n",
       "      <td>...</td>\n",
       "      <td>Наезд на пешехода</td>\n",
       "      <td>2023-09-12 17:10:00</td>\n",
       "      <td>1</td>\n",
       "      <td>Кировская область</td>\n",
       "      <td>['Сухое', 'Отсутствие, плохая различимость гор...</td>\n",
       "      <td>2</td>\n",
       "      <td>['Все участники', 'Пешеходы']</td>\n",
       "      <td>Вторник</td>\n",
       "      <td>Сентябрь</td>\n",
       "      <td>2023</td>\n",
       "    </tr>\n",
       "    <tr>\n",
       "      <th>2</th>\n",
       "      <td>[47.840781, 57.297156]</td>\n",
       "      <td>2591208</td>\n",
       "      <td>Дорожно-транспортные происшествия</td>\n",
       "      <td>Сумерки</td>\n",
       "      <td>57.297157</td>\n",
       "      <td>47.840782</td>\n",
       "      <td>['Жилые дома индивидуальной застройки', 'Нерег...</td>\n",
       "      <td>Яранский район</td>\n",
       "      <td>NaN</td>\n",
       "      <td>г Яранск, ул Чапаева, 80</td>\n",
       "      <td>...</td>\n",
       "      <td>Съезд с дороги</td>\n",
       "      <td>2021-07-02 21:25:00</td>\n",
       "      <td>1</td>\n",
       "      <td>Кировская область</td>\n",
       "      <td>['Мокрое']</td>\n",
       "      <td>1</td>\n",
       "      <td>['Все участники']</td>\n",
       "      <td>Пятница</td>\n",
       "      <td>Июль</td>\n",
       "      <td>2021</td>\n",
       "    </tr>\n",
       "    <tr>\n",
       "      <th>3</th>\n",
       "      <td>[47.834365, 57.244775]</td>\n",
       "      <td>2577639</td>\n",
       "      <td>Дорожно-транспортные происшествия</td>\n",
       "      <td>Светлое время суток</td>\n",
       "      <td>57.244774</td>\n",
       "      <td>47.834366</td>\n",
       "      <td>['Жилые дома индивидуальной застройки']</td>\n",
       "      <td>Яранский район</td>\n",
       "      <td>200.0</td>\n",
       "      <td>м Знаменка, ул Кирова, 15</td>\n",
       "      <td>...</td>\n",
       "      <td>Столкновение</td>\n",
       "      <td>2021-05-31 18:55:00</td>\n",
       "      <td>1</td>\n",
       "      <td>Кировская область</td>\n",
       "      <td>['Сухое']</td>\n",
       "      <td>2</td>\n",
       "      <td>['Все участники', 'Мотоциклисты']</td>\n",
       "      <td>Понедельник</td>\n",
       "      <td>Май</td>\n",
       "      <td>2021</td>\n",
       "    </tr>\n",
       "    <tr>\n",
       "      <th>4</th>\n",
       "      <td>[47.968197, 57.357738]</td>\n",
       "      <td>1981026</td>\n",
       "      <td>Дорожно-транспортные происшествия</td>\n",
       "      <td>Светлое время суток</td>\n",
       "      <td>57.357738</td>\n",
       "      <td>47.968197</td>\n",
       "      <td>['Нерегулируемый перекрёсток неравнозначных ул...</td>\n",
       "      <td>Яранский район</td>\n",
       "      <td>NaN</td>\n",
       "      <td>с/п Никольское, Киров-Советск- Яранск - подъез...</td>\n",
       "      <td>...</td>\n",
       "      <td>Опрокидывание</td>\n",
       "      <td>2018-05-16 16:25:00</td>\n",
       "      <td>2</td>\n",
       "      <td>Кировская область</td>\n",
       "      <td>['Сухое', 'Отсутствие, плохая различимость гор...</td>\n",
       "      <td>2</td>\n",
       "      <td>['Все участники']</td>\n",
       "      <td>Среда</td>\n",
       "      <td>Май</td>\n",
       "      <td>2018</td>\n",
       "    </tr>\n",
       "  </tbody>\n",
       "</table>\n",
       "<p>5 rows × 21 columns</p>\n",
       "</div>"
      ],
      "text/plain": [
       "     geometry_coordinates       id                    properties_tags  \\\n",
       "0   [47.875603, 57.24379]  1983180  Дорожно-транспортные происшествия   \n",
       "1   [47.87903, 57.304807]  2889433  Дорожно-транспортные происшествия   \n",
       "2  [47.840781, 57.297156]  2591208  Дорожно-транспортные происшествия   \n",
       "3  [47.834365, 57.244775]  2577639  Дорожно-транспортные происшествия   \n",
       "4  [47.968197, 57.357738]  1981026  Дорожно-транспортные происшествия   \n",
       "\n",
       "      properties_light  properties_point_lat  properties_point_long  \\\n",
       "0  Светлое время суток             57.243790              47.875603   \n",
       "1  Светлое время суток             57.304806              47.879028   \n",
       "2              Сумерки             57.297157              47.840782   \n",
       "3  Светлое время суток             57.244774              47.834366   \n",
       "4  Светлое время суток             57.357738              47.968197   \n",
       "\n",
       "                                   properties_nearby properties_region  \\\n",
       "0                                                 []    Яранский район   \n",
       "1  ['Административные здания', 'Нерегулируемый пе...    Яранский район   \n",
       "2  ['Жилые дома индивидуальной застройки', 'Нерег...    Яранский район   \n",
       "3            ['Жилые дома индивидуальной застройки']    Яранский район   \n",
       "4  ['Нерегулируемый перекрёсток неравнозначных ул...    Яранский район   \n",
       "\n",
       "   properties_scheme                                 properties_address  ...  \\\n",
       "0              600.0  Р-176 Вятка Чебоксары - Йошкар-Ола - Киров - С...  ...   \n",
       "1              710.0                            г Яранск, ул Кирова, 10  ...   \n",
       "2                NaN                           г Яранск, ул Чапаева, 80  ...   \n",
       "3              200.0                          м Знаменка, ул Кирова, 15  ...   \n",
       "4                NaN  с/п Никольское, Киров-Советск- Яранск - подъез...  ...   \n",
       "\n",
       "  properties_category properties_datetime properties_injured_count  \\\n",
       "0       Опрокидывание 2017-07-01 18:00:00                        1   \n",
       "1   Наезд на пешехода 2023-09-12 17:10:00                        1   \n",
       "2      Съезд с дороги 2021-07-02 21:25:00                        1   \n",
       "3        Столкновение 2021-05-31 18:55:00                        1   \n",
       "4       Опрокидывание 2018-05-16 16:25:00                        2   \n",
       "\n",
       "   properties_parent_region  \\\n",
       "0         Кировская область   \n",
       "1         Кировская область   \n",
       "2         Кировская область   \n",
       "3         Кировская область   \n",
       "4         Кировская область   \n",
       "\n",
       "                          properties_road_conditions  \\\n",
       "0                                         ['Мокрое']   \n",
       "1  ['Сухое', 'Отсутствие, плохая различимость гор...   \n",
       "2                                         ['Мокрое']   \n",
       "3                                          ['Сухое']   \n",
       "4  ['Сухое', 'Отсутствие, плохая различимость гор...   \n",
       "\n",
       "  properties_participants_count  properties_participant_categories  \\\n",
       "0                             3                  ['Все участники']   \n",
       "1                             2      ['Все участники', 'Пешеходы']   \n",
       "2                             1                  ['Все участники']   \n",
       "3                             2  ['Все участники', 'Мотоциклисты']   \n",
       "4                             2                  ['Все участники']   \n",
       "\n",
       "   day_of_week month_dtp year_dtp  \n",
       "0      Суббота      Июль     2017  \n",
       "1      Вторник  Сентябрь     2023  \n",
       "2      Пятница      Июль     2021  \n",
       "3  Понедельник       Май     2021  \n",
       "4        Среда       Май     2018  \n",
       "\n",
       "[5 rows x 21 columns]"
      ]
     },
     "metadata": {},
     "output_type": "display_data"
    },
    {
     "data": {
      "text/html": [
       "<div>\n",
       "<style scoped>\n",
       "    .dataframe tbody tr th:only-of-type {\n",
       "        vertical-align: middle;\n",
       "    }\n",
       "\n",
       "    .dataframe tbody tr th {\n",
       "        vertical-align: top;\n",
       "    }\n",
       "\n",
       "    .dataframe thead th {\n",
       "        text-align: right;\n",
       "    }\n",
       "</style>\n",
       "<table border=\"1\" class=\"dataframe\">\n",
       "  <thead>\n",
       "    <tr style=\"text-align: right;\">\n",
       "      <th></th>\n",
       "      <th>geometry_coordinates</th>\n",
       "      <th>id</th>\n",
       "      <th>properties_tags</th>\n",
       "      <th>properties_light</th>\n",
       "      <th>properties_point_lat</th>\n",
       "      <th>properties_point_long</th>\n",
       "      <th>properties_nearby</th>\n",
       "      <th>properties_region</th>\n",
       "      <th>properties_scheme</th>\n",
       "      <th>properties_address</th>\n",
       "      <th>...</th>\n",
       "      <th>properties_category</th>\n",
       "      <th>properties_datetime</th>\n",
       "      <th>properties_injured_count</th>\n",
       "      <th>properties_parent_region</th>\n",
       "      <th>properties_road_conditions</th>\n",
       "      <th>properties_participants_count</th>\n",
       "      <th>properties_participant_categories</th>\n",
       "      <th>day_of_week</th>\n",
       "      <th>month_dtp</th>\n",
       "      <th>year_dtp</th>\n",
       "    </tr>\n",
       "  </thead>\n",
       "  <tbody>\n",
       "    <tr>\n",
       "      <th>0</th>\n",
       "      <td>[37.5253, 55.9992]</td>\n",
       "      <td>2163589</td>\n",
       "      <td>['Дорожно-транспортные происшествия']</td>\n",
       "      <td>Светлое время суток</td>\n",
       "      <td>55.999199</td>\n",
       "      <td>37.525299</td>\n",
       "      <td>['Мост, эстакада, путепровод', 'Крупный торгов...</td>\n",
       "      <td>Мытищинский</td>\n",
       "      <td>NaN</td>\n",
       "      <td>ХЛЕБНИКОВО-РОГАЧЕВО, 0 км</td>\n",
       "      <td>...</td>\n",
       "      <td>Столкновение</td>\n",
       "      <td>2019-01-31 09:05:00</td>\n",
       "      <td>1</td>\n",
       "      <td>Московская область</td>\n",
       "      <td>['Мокрое', 'Отсутствие, плохая различимость го...</td>\n",
       "      <td>3</td>\n",
       "      <td>['Все участники']</td>\n",
       "      <td>Четверг</td>\n",
       "      <td>Январь</td>\n",
       "      <td>2019</td>\n",
       "    </tr>\n",
       "    <tr>\n",
       "      <th>1</th>\n",
       "      <td>[37.058966, 55.788688]</td>\n",
       "      <td>2155398</td>\n",
       "      <td>['Дорожно-транспортные происшествия', 'ДТП и п...</td>\n",
       "      <td>В темное время суток, освещение включено</td>\n",
       "      <td>55.788689</td>\n",
       "      <td>37.058968</td>\n",
       "      <td>[]</td>\n",
       "      <td>Истринский</td>\n",
       "      <td>70.0</td>\n",
       "      <td>М-9 Балтия Москва - Волоколамск - граница с Ла...</td>\n",
       "      <td>...</td>\n",
       "      <td>Столкновение</td>\n",
       "      <td>2018-09-22 05:00:00</td>\n",
       "      <td>2</td>\n",
       "      <td>Московская область</td>\n",
       "      <td>['Сухое']</td>\n",
       "      <td>4</td>\n",
       "      <td>['Все участники', 'Дети']</td>\n",
       "      <td>Суббота</td>\n",
       "      <td>Сентябрь</td>\n",
       "      <td>2018</td>\n",
       "    </tr>\n",
       "    <tr>\n",
       "      <th>2</th>\n",
       "      <td>[37.4419, 56.0081]</td>\n",
       "      <td>2163319</td>\n",
       "      <td>['Дорожно-транспортные происшествия']</td>\n",
       "      <td>В темное время суток, освещение включено</td>\n",
       "      <td>56.008099</td>\n",
       "      <td>37.441898</td>\n",
       "      <td>['Многоквартирные жилые дома', 'Остановка обще...</td>\n",
       "      <td>Лобня</td>\n",
       "      <td>820.0</td>\n",
       "      <td>г Лобня, ул Ленина, 43</td>\n",
       "      <td>...</td>\n",
       "      <td>Наезд на пешехода</td>\n",
       "      <td>2019-01-24 19:30:00</td>\n",
       "      <td>1</td>\n",
       "      <td>Московская область</td>\n",
       "      <td>['Обработанное противогололедными материалами']</td>\n",
       "      <td>2</td>\n",
       "      <td>['Все участники', 'Пешеходы']</td>\n",
       "      <td>Четверг</td>\n",
       "      <td>Январь</td>\n",
       "      <td>2019</td>\n",
       "    </tr>\n",
       "    <tr>\n",
       "      <th>3</th>\n",
       "      <td>[38.6614, 55.4358]</td>\n",
       "      <td>2143938</td>\n",
       "      <td>['Дорожно-транспортные происшествия']</td>\n",
       "      <td>Светлое время суток</td>\n",
       "      <td>55.435799</td>\n",
       "      <td>38.661400</td>\n",
       "      <td>['Регулируемый перекресток']</td>\n",
       "      <td>Воскресенский</td>\n",
       "      <td>300.0</td>\n",
       "      <td>ЖУКОВСКИЙ-РАМЕНСКОЕ-СТ.БРОННИЦЫ-ЧЕЧЕВИЛОВО-МБК...</td>\n",
       "      <td>...</td>\n",
       "      <td>Столкновение</td>\n",
       "      <td>2018-01-25 16:00:00</td>\n",
       "      <td>2</td>\n",
       "      <td>Московская область</td>\n",
       "      <td>['Обработанное противогололедными материалами'...</td>\n",
       "      <td>3</td>\n",
       "      <td>['Все участники']</td>\n",
       "      <td>Четверг</td>\n",
       "      <td>Январь</td>\n",
       "      <td>2018</td>\n",
       "    </tr>\n",
       "    <tr>\n",
       "      <th>4</th>\n",
       "      <td>[38.29207, 55.50502]</td>\n",
       "      <td>2163390</td>\n",
       "      <td>['Дорожно-транспортные происшествия']</td>\n",
       "      <td>Темное время (нет освещения)</td>\n",
       "      <td>55.505020</td>\n",
       "      <td>38.292068</td>\n",
       "      <td>['Нерегулируемый перекрёсток неравнозначных ул...</td>\n",
       "      <td>Раменский</td>\n",
       "      <td>500.0</td>\n",
       "      <td>ММК-РАМЕНСКОЕ, 4 км</td>\n",
       "      <td>...</td>\n",
       "      <td>Столкновение</td>\n",
       "      <td>2019-01-14 17:40:00</td>\n",
       "      <td>1</td>\n",
       "      <td>Московская область</td>\n",
       "      <td>['Обработанное противогололедными материалами']</td>\n",
       "      <td>2</td>\n",
       "      <td>['Все участники']</td>\n",
       "      <td>Понедельник</td>\n",
       "      <td>Январь</td>\n",
       "      <td>2019</td>\n",
       "    </tr>\n",
       "  </tbody>\n",
       "</table>\n",
       "<p>5 rows × 21 columns</p>\n",
       "</div>"
      ],
      "text/plain": [
       "     geometry_coordinates       id  \\\n",
       "0      [37.5253, 55.9992]  2163589   \n",
       "1  [37.058966, 55.788688]  2155398   \n",
       "2      [37.4419, 56.0081]  2163319   \n",
       "3      [38.6614, 55.4358]  2143938   \n",
       "4    [38.29207, 55.50502]  2163390   \n",
       "\n",
       "                                     properties_tags  \\\n",
       "0              ['Дорожно-транспортные происшествия']   \n",
       "1  ['Дорожно-транспортные происшествия', 'ДТП и п...   \n",
       "2              ['Дорожно-транспортные происшествия']   \n",
       "3              ['Дорожно-транспортные происшествия']   \n",
       "4              ['Дорожно-транспортные происшествия']   \n",
       "\n",
       "                           properties_light  properties_point_lat  \\\n",
       "0                       Светлое время суток             55.999199   \n",
       "1  В темное время суток, освещение включено             55.788689   \n",
       "2  В темное время суток, освещение включено             56.008099   \n",
       "3                       Светлое время суток             55.435799   \n",
       "4              Темное время (нет освещения)             55.505020   \n",
       "\n",
       "   properties_point_long                                  properties_nearby  \\\n",
       "0              37.525299  ['Мост, эстакада, путепровод', 'Крупный торгов...   \n",
       "1              37.058968                                                 []   \n",
       "2              37.441898  ['Многоквартирные жилые дома', 'Остановка обще...   \n",
       "3              38.661400                       ['Регулируемый перекресток']   \n",
       "4              38.292068  ['Нерегулируемый перекрёсток неравнозначных ул...   \n",
       "\n",
       "  properties_region  properties_scheme  \\\n",
       "0       Мытищинский                NaN   \n",
       "1        Истринский               70.0   \n",
       "2             Лобня              820.0   \n",
       "3     Воскресенский              300.0   \n",
       "4         Раменский              500.0   \n",
       "\n",
       "                                  properties_address  ... properties_category  \\\n",
       "0                          ХЛЕБНИКОВО-РОГАЧЕВО, 0 км  ...        Столкновение   \n",
       "1  М-9 Балтия Москва - Волоколамск - граница с Ла...  ...        Столкновение   \n",
       "2                             г Лобня, ул Ленина, 43  ...   Наезд на пешехода   \n",
       "3  ЖУКОВСКИЙ-РАМЕНСКОЕ-СТ.БРОННИЦЫ-ЧЕЧЕВИЛОВО-МБК...  ...        Столкновение   \n",
       "4                                ММК-РАМЕНСКОЕ, 4 км  ...        Столкновение   \n",
       "\n",
       "  properties_datetime properties_injured_count  properties_parent_region  \\\n",
       "0 2019-01-31 09:05:00                        1        Московская область   \n",
       "1 2018-09-22 05:00:00                        2        Московская область   \n",
       "2 2019-01-24 19:30:00                        1        Московская область   \n",
       "3 2018-01-25 16:00:00                        2        Московская область   \n",
       "4 2019-01-14 17:40:00                        1        Московская область   \n",
       "\n",
       "                          properties_road_conditions  \\\n",
       "0  ['Мокрое', 'Отсутствие, плохая различимость го...   \n",
       "1                                          ['Сухое']   \n",
       "2    ['Обработанное противогололедными материалами']   \n",
       "3  ['Обработанное противогололедными материалами'...   \n",
       "4    ['Обработанное противогололедными материалами']   \n",
       "\n",
       "  properties_participants_count  properties_participant_categories  \\\n",
       "0                             3                  ['Все участники']   \n",
       "1                             4          ['Все участники', 'Дети']   \n",
       "2                             2      ['Все участники', 'Пешеходы']   \n",
       "3                             3                  ['Все участники']   \n",
       "4                             2                  ['Все участники']   \n",
       "\n",
       "   day_of_week month_dtp year_dtp  \n",
       "0      Четверг    Январь     2019  \n",
       "1      Суббота  Сентябрь     2018  \n",
       "2      Четверг    Январь     2019  \n",
       "3      Четверг    Январь     2018  \n",
       "4  Понедельник    Январь     2019  \n",
       "\n",
       "[5 rows x 21 columns]"
      ]
     },
     "metadata": {},
     "output_type": "display_data"
    }
   ],
   "source": [
    "# Создаем столбец с годом\n",
    "df_k ['year_dtp'] = df_k ['properties_datetime'].dt.year\n",
    "df_m ['year_dtp'] = df_m ['properties_datetime'].dt.year\n",
    "\n",
    "display (df_k.head())\n",
    "display (df_m.head())"
   ]
  },
  {
   "cell_type": "markdown",
   "id": "8ef4106a",
   "metadata": {},
   "source": [
    "Столбцы с годом ДТП добавлены успешно. Далее, посчитаем число аварий по годам."
   ]
  },
  {
   "cell_type": "code",
   "execution_count": 36,
   "id": "d8348634",
   "metadata": {},
   "outputs": [
    {
     "data": {
      "text/html": [
       "<div>\n",
       "<style scoped>\n",
       "    .dataframe tbody tr th:only-of-type {\n",
       "        vertical-align: middle;\n",
       "    }\n",
       "\n",
       "    .dataframe tbody tr th {\n",
       "        vertical-align: top;\n",
       "    }\n",
       "\n",
       "    .dataframe thead th {\n",
       "        text-align: right;\n",
       "    }\n",
       "</style>\n",
       "<table border=\"1\" class=\"dataframe\">\n",
       "  <thead>\n",
       "    <tr style=\"text-align: right;\">\n",
       "      <th></th>\n",
       "      <th>year_dtp</th>\n",
       "      <th>id</th>\n",
       "    </tr>\n",
       "  </thead>\n",
       "  <tbody>\n",
       "    <tr>\n",
       "      <th>3</th>\n",
       "      <td>2018</td>\n",
       "      <td>1612</td>\n",
       "    </tr>\n",
       "    <tr>\n",
       "      <th>4</th>\n",
       "      <td>2019</td>\n",
       "      <td>1568</td>\n",
       "    </tr>\n",
       "    <tr>\n",
       "      <th>0</th>\n",
       "      <td>2015</td>\n",
       "      <td>1532</td>\n",
       "    </tr>\n",
       "    <tr>\n",
       "      <th>6</th>\n",
       "      <td>2021</td>\n",
       "      <td>1524</td>\n",
       "    </tr>\n",
       "    <tr>\n",
       "      <th>5</th>\n",
       "      <td>2020</td>\n",
       "      <td>1498</td>\n",
       "    </tr>\n",
       "    <tr>\n",
       "      <th>8</th>\n",
       "      <td>2023</td>\n",
       "      <td>1486</td>\n",
       "    </tr>\n",
       "    <tr>\n",
       "      <th>1</th>\n",
       "      <td>2016</td>\n",
       "      <td>1468</td>\n",
       "    </tr>\n",
       "    <tr>\n",
       "      <th>2</th>\n",
       "      <td>2017</td>\n",
       "      <td>1452</td>\n",
       "    </tr>\n",
       "    <tr>\n",
       "      <th>7</th>\n",
       "      <td>2022</td>\n",
       "      <td>1386</td>\n",
       "    </tr>\n",
       "    <tr>\n",
       "      <th>9</th>\n",
       "      <td>2024</td>\n",
       "      <td>991</td>\n",
       "    </tr>\n",
       "  </tbody>\n",
       "</table>\n",
       "</div>"
      ],
      "text/plain": [
       "   year_dtp    id\n",
       "3      2018  1612\n",
       "4      2019  1568\n",
       "0      2015  1532\n",
       "6      2021  1524\n",
       "5      2020  1498\n",
       "8      2023  1486\n",
       "1      2016  1468\n",
       "2      2017  1452\n",
       "7      2022  1386\n",
       "9      2024   991"
      ]
     },
     "metadata": {},
     "output_type": "display_data"
    },
    {
     "data": {
      "text/html": [
       "<div>\n",
       "<style scoped>\n",
       "    .dataframe tbody tr th:only-of-type {\n",
       "        vertical-align: middle;\n",
       "    }\n",
       "\n",
       "    .dataframe tbody tr th {\n",
       "        vertical-align: top;\n",
       "    }\n",
       "\n",
       "    .dataframe thead th {\n",
       "        text-align: right;\n",
       "    }\n",
       "</style>\n",
       "<table border=\"1\" class=\"dataframe\">\n",
       "  <thead>\n",
       "    <tr style=\"text-align: right;\">\n",
       "      <th></th>\n",
       "      <th>year_dtp</th>\n",
       "      <th>id</th>\n",
       "    </tr>\n",
       "  </thead>\n",
       "  <tbody>\n",
       "    <tr>\n",
       "      <th>0</th>\n",
       "      <td>2015</td>\n",
       "      <td>6643</td>\n",
       "    </tr>\n",
       "    <tr>\n",
       "      <th>1</th>\n",
       "      <td>2016</td>\n",
       "      <td>5794</td>\n",
       "    </tr>\n",
       "    <tr>\n",
       "      <th>2</th>\n",
       "      <td>2017</td>\n",
       "      <td>5747</td>\n",
       "    </tr>\n",
       "    <tr>\n",
       "      <th>4</th>\n",
       "      <td>2019</td>\n",
       "      <td>5111</td>\n",
       "    </tr>\n",
       "    <tr>\n",
       "      <th>3</th>\n",
       "      <td>2018</td>\n",
       "      <td>5102</td>\n",
       "    </tr>\n",
       "    <tr>\n",
       "      <th>5</th>\n",
       "      <td>2020</td>\n",
       "      <td>4216</td>\n",
       "    </tr>\n",
       "    <tr>\n",
       "      <th>6</th>\n",
       "      <td>2021</td>\n",
       "      <td>3898</td>\n",
       "    </tr>\n",
       "    <tr>\n",
       "      <th>8</th>\n",
       "      <td>2023</td>\n",
       "      <td>3372</td>\n",
       "    </tr>\n",
       "    <tr>\n",
       "      <th>7</th>\n",
       "      <td>2022</td>\n",
       "      <td>3353</td>\n",
       "    </tr>\n",
       "    <tr>\n",
       "      <th>9</th>\n",
       "      <td>2024</td>\n",
       "      <td>2382</td>\n",
       "    </tr>\n",
       "  </tbody>\n",
       "</table>\n",
       "</div>"
      ],
      "text/plain": [
       "   year_dtp    id\n",
       "0      2015  6643\n",
       "1      2016  5794\n",
       "2      2017  5747\n",
       "4      2019  5111\n",
       "3      2018  5102\n",
       "5      2020  4216\n",
       "6      2021  3898\n",
       "8      2023  3372\n",
       "7      2022  3353\n",
       "9      2024  2382"
      ]
     },
     "metadata": {},
     "output_type": "display_data"
    }
   ],
   "source": [
    "# Группируем данные по годам и считаем число дтп\n",
    "count_dtp_years_k = df_k.groupby('year_dtp')['id'\n",
    "                        ].count().reset_index().sort_values(by='id', ascending=False)\n",
    "\n",
    "count_dtp_years_m = df_m.groupby('year_dtp')['id'\n",
    "                        ].count().reset_index().sort_values(by='id', ascending=False)\n",
    "\n",
    "display (count_dtp_years_k, count_dtp_years_m)"
   ]
  },
  {
   "cell_type": "markdown",
   "id": "d2e0afb1",
   "metadata": {},
   "source": [
    "В качестве источника сведений по численности населения по годам взяли сайт Википедии [Ссылка на численость населения Кировской области по годам»](https://ru.wikipedia.org/wiki/Население_Кировской_области#Динамика_численности_населения) [Ссылка на численность населения Московской области по годам»](https://https://ru.wikipedia.org/wiki/Население_Московской_области#Численность_населения)"
   ]
  },
  {
   "cell_type": "code",
   "execution_count": 37,
   "id": "17f4d691",
   "metadata": {},
   "outputs": [
    {
     "data": {
      "text/html": [
       "<div>\n",
       "<style scoped>\n",
       "    .dataframe tbody tr th:only-of-type {\n",
       "        vertical-align: middle;\n",
       "    }\n",
       "\n",
       "    .dataframe tbody tr th {\n",
       "        vertical-align: top;\n",
       "    }\n",
       "\n",
       "    .dataframe thead th {\n",
       "        text-align: right;\n",
       "    }\n",
       "</style>\n",
       "<table border=\"1\" class=\"dataframe\">\n",
       "  <thead>\n",
       "    <tr style=\"text-align: right;\">\n",
       "      <th></th>\n",
       "      <th>year_dtp</th>\n",
       "      <th>id</th>\n",
       "      <th>population</th>\n",
       "      <th>dtp_per_100000_population</th>\n",
       "    </tr>\n",
       "  </thead>\n",
       "  <tbody>\n",
       "    <tr>\n",
       "      <th>0</th>\n",
       "      <td>2018</td>\n",
       "      <td>1612</td>\n",
       "      <td>1283238</td>\n",
       "      <td>126.0</td>\n",
       "    </tr>\n",
       "    <tr>\n",
       "      <th>1</th>\n",
       "      <td>2019</td>\n",
       "      <td>1568</td>\n",
       "      <td>1272109</td>\n",
       "      <td>123.0</td>\n",
       "    </tr>\n",
       "    <tr>\n",
       "      <th>2</th>\n",
       "      <td>2015</td>\n",
       "      <td>1532</td>\n",
       "      <td>1304348</td>\n",
       "      <td>117.0</td>\n",
       "    </tr>\n",
       "    <tr>\n",
       "      <th>3</th>\n",
       "      <td>2021</td>\n",
       "      <td>1524</td>\n",
       "      <td>1153680</td>\n",
       "      <td>132.0</td>\n",
       "    </tr>\n",
       "    <tr>\n",
       "      <th>4</th>\n",
       "      <td>2020</td>\n",
       "      <td>1498</td>\n",
       "      <td>1262402</td>\n",
       "      <td>119.0</td>\n",
       "    </tr>\n",
       "    <tr>\n",
       "      <th>5</th>\n",
       "      <td>2023</td>\n",
       "      <td>1486</td>\n",
       "      <td>1138112</td>\n",
       "      <td>131.0</td>\n",
       "    </tr>\n",
       "    <tr>\n",
       "      <th>6</th>\n",
       "      <td>2016</td>\n",
       "      <td>1468</td>\n",
       "      <td>1297474</td>\n",
       "      <td>113.0</td>\n",
       "    </tr>\n",
       "    <tr>\n",
       "      <th>7</th>\n",
       "      <td>2017</td>\n",
       "      <td>1452</td>\n",
       "      <td>1291684</td>\n",
       "      <td>112.0</td>\n",
       "    </tr>\n",
       "    <tr>\n",
       "      <th>8</th>\n",
       "      <td>2022</td>\n",
       "      <td>1386</td>\n",
       "      <td>1149176</td>\n",
       "      <td>121.0</td>\n",
       "    </tr>\n",
       "    <tr>\n",
       "      <th>9</th>\n",
       "      <td>2024</td>\n",
       "      <td>991</td>\n",
       "      <td>1129935</td>\n",
       "      <td>88.0</td>\n",
       "    </tr>\n",
       "  </tbody>\n",
       "</table>\n",
       "</div>"
      ],
      "text/plain": [
       "   year_dtp    id  population  dtp_per_100000_population\n",
       "0      2018  1612     1283238                      126.0\n",
       "1      2019  1568     1272109                      123.0\n",
       "2      2015  1532     1304348                      117.0\n",
       "3      2021  1524     1153680                      132.0\n",
       "4      2020  1498     1262402                      119.0\n",
       "5      2023  1486     1138112                      131.0\n",
       "6      2016  1468     1297474                      113.0\n",
       "7      2017  1452     1291684                      112.0\n",
       "8      2022  1386     1149176                      121.0\n",
       "9      2024   991     1129935                       88.0"
      ]
     },
     "metadata": {},
     "output_type": "display_data"
    }
   ],
   "source": [
    "# Создаем датафрейм с населением по годам в Кировской области\n",
    "data_population_k =  pd.DataFrame ({\n",
    "    'year_dtp': [2015, 2016, 2017,2018,2019,\n",
    "                2020,2021, 2022, 2023, 2024],\n",
    "    'population': [1304348, 1297474, 1291684, 1283238,\n",
    "                  1272109, 1262402, 1153680, 1149176, 1138112, 1_129_935]})\n",
    "\n",
    "# Объединяем таблицы с численностью населения и числом ДТП\n",
    "result_kirov = pd.merge(count_dtp_years_k, data_population_k, on='year_dtp')\n",
    "\n",
    "# Считаем число аварий на 100000 населения\n",
    "result_kirov['dtp_per_100000_population'] = (result_kirov['id'] / \n",
    "                                    result_kirov['population'] * 100000).round()\n",
    "display (result_kirov)"
   ]
  },
  {
   "cell_type": "code",
   "execution_count": 38,
   "id": "f4f42816",
   "metadata": {},
   "outputs": [
    {
     "data": {
      "text/html": [
       "<div>\n",
       "<style scoped>\n",
       "    .dataframe tbody tr th:only-of-type {\n",
       "        vertical-align: middle;\n",
       "    }\n",
       "\n",
       "    .dataframe tbody tr th {\n",
       "        vertical-align: top;\n",
       "    }\n",
       "\n",
       "    .dataframe thead th {\n",
       "        text-align: right;\n",
       "    }\n",
       "</style>\n",
       "<table border=\"1\" class=\"dataframe\">\n",
       "  <thead>\n",
       "    <tr style=\"text-align: right;\">\n",
       "      <th></th>\n",
       "      <th>year_dtp</th>\n",
       "      <th>id</th>\n",
       "      <th>population</th>\n",
       "      <th>dtp_per_100000_population</th>\n",
       "    </tr>\n",
       "  </thead>\n",
       "  <tbody>\n",
       "    <tr>\n",
       "      <th>0</th>\n",
       "      <td>2015</td>\n",
       "      <td>6643</td>\n",
       "      <td>7231068</td>\n",
       "      <td>92.0</td>\n",
       "    </tr>\n",
       "    <tr>\n",
       "      <th>1</th>\n",
       "      <td>2016</td>\n",
       "      <td>5794</td>\n",
       "      <td>7318647</td>\n",
       "      <td>79.0</td>\n",
       "    </tr>\n",
       "    <tr>\n",
       "      <th>2</th>\n",
       "      <td>2017</td>\n",
       "      <td>5747</td>\n",
       "      <td>7423470</td>\n",
       "      <td>77.0</td>\n",
       "    </tr>\n",
       "    <tr>\n",
       "      <th>3</th>\n",
       "      <td>2019</td>\n",
       "      <td>5111</td>\n",
       "      <td>7599647</td>\n",
       "      <td>67.0</td>\n",
       "    </tr>\n",
       "    <tr>\n",
       "      <th>4</th>\n",
       "      <td>2018</td>\n",
       "      <td>5102</td>\n",
       "      <td>7503385</td>\n",
       "      <td>68.0</td>\n",
       "    </tr>\n",
       "    <tr>\n",
       "      <th>5</th>\n",
       "      <td>2020</td>\n",
       "      <td>4216</td>\n",
       "      <td>7690863</td>\n",
       "      <td>55.0</td>\n",
       "    </tr>\n",
       "    <tr>\n",
       "      <th>6</th>\n",
       "      <td>2021</td>\n",
       "      <td>3898</td>\n",
       "      <td>8524665</td>\n",
       "      <td>46.0</td>\n",
       "    </tr>\n",
       "    <tr>\n",
       "      <th>7</th>\n",
       "      <td>2023</td>\n",
       "      <td>3372</td>\n",
       "      <td>8591736</td>\n",
       "      <td>39.0</td>\n",
       "    </tr>\n",
       "    <tr>\n",
       "      <th>8</th>\n",
       "      <td>2022</td>\n",
       "      <td>3353</td>\n",
       "      <td>8542257</td>\n",
       "      <td>39.0</td>\n",
       "    </tr>\n",
       "    <tr>\n",
       "      <th>9</th>\n",
       "      <td>2024</td>\n",
       "      <td>2382</td>\n",
       "      <td>8651260</td>\n",
       "      <td>28.0</td>\n",
       "    </tr>\n",
       "  </tbody>\n",
       "</table>\n",
       "</div>"
      ],
      "text/plain": [
       "   year_dtp    id  population  dtp_per_100000_population\n",
       "0      2015  6643     7231068                       92.0\n",
       "1      2016  5794     7318647                       79.0\n",
       "2      2017  5747     7423470                       77.0\n",
       "3      2019  5111     7599647                       67.0\n",
       "4      2018  5102     7503385                       68.0\n",
       "5      2020  4216     7690863                       55.0\n",
       "6      2021  3898     8524665                       46.0\n",
       "7      2023  3372     8591736                       39.0\n",
       "8      2022  3353     8542257                       39.0\n",
       "9      2024  2382     8651260                       28.0"
      ]
     },
     "metadata": {},
     "output_type": "display_data"
    }
   ],
   "source": [
    "# Создаем датафрейм с населением по годам в Московской области\n",
    "data_population_m =  pd.DataFrame ({\n",
    "    'year_dtp': [2015, 2016, 2017,2018,2019,\n",
    "                2020,2021, 2022, 2023, 2024],\n",
    "    'population': [7231068, 7318647, 7423470, 7503385,\n",
    "                  7599647, 7690863, 8524665, 8542257, 8591736, 8651260]})\n",
    "\n",
    "# Объединяем таблицы с численностью населения и числом ДТП\n",
    "result_moscow = pd.merge(count_dtp_years_m, data_population_m, on='year_dtp')\n",
    "\n",
    "# Считаем число аварий на 100000 населения\n",
    "result_moscow['dtp_per_100000_population'] = (result_moscow['id'] / \n",
    "                                   result_moscow['population'] * 100000).round()\n",
    "display (result_moscow)"
   ]
  },
  {
   "cell_type": "markdown",
   "id": "20f0e5ee",
   "metadata": {},
   "source": [
    "Кировская область показывает значительно более высокий уровень аварийности (в среднем 119 ДТП на 100 тыс.), чем Московская область (в среднем 59 ДТП на 100 тыс.). Также, замечается тенденция к снижению числа ДТП в Московской области на протяжении всего периода (2015 год 92 аварии на 100 тыс., 2023 год 39 аварий на 100 тыс.), в Кировской области наблюдаются калебания в диапазоне 112-132 ДТП на 100 тыс. за весь период.\n",
    "\n",
    "Можно сделать вывод, что Московская область демонстрирует успешную динамику снижения аварийности, в то время как в Кировской области ситуация остается стабильно сложной.\n",
    "\n",
    "# Итоговые выводы.\n",
    "В процессе предобработки и анализа, было изучено 18 столбцов и 14517, 45618 записей датафреймов `df_k` и `df_m`, с информацией о ДТП в Кировской и Московской областях, а также  6 столбцов и 31235, 95177 строк датафреймов `participants_k` и `participants_m`, хранящих данные об участниках ДТП. \n",
    "\n",
    "Названия столбцов датафреймов `df_k` и `df_m` приведены к стилю `snake case`. Столбцы, хранящие информацию о дате и времени, приведены к типу `datetime`, оптимизирована разрядность в числовых полях. Дубликатов не обнаружено. Пропуски имеются в полях со схемой (7.8% и 3.9%), ближайшим адресом (4.6% и 3.0%) и с широтой и долготой (по 0.02% и по 0.01%). В поле с  информацией об освещенности обнаружены  формулировки, которые фактически описывают одно и то же, например `В темное время суток, освещение отсутствует` и `В темное время суток, освещение не включено`, объединили их в одну категорию - `Темное время (нет освещения)`. Выявлено, что столбец, хранящий данные о ближайших объектах имеет пустые списки (19.9% для Кировской области и 23.2% для Московской области). Такие значения неоднозначны - могут говорить о том, что ДТП произошло в месте, где нет значимых объектов или пропущенные значения. В таблицах с участниками ДТП, обнаружены пропуски в столбцах со стажем, в том числе и для водителей (КО 14.4%, МО 7.5%.), это некорректное заполнение. Также, выявлены экстремальные значения стажа - 60 лет и выше, данные записи были удалены (0.04% и 0.05% данных). \n",
    "\n",
    " - Сезонные и недельные колебания по числу ДТП.\n",
    " \n",
    " Пик аварийности по обоим регионам наблюдается к выходным дням - пятница (КО 2344, МО 7024), суббота (КО 2246, МО 7285). По месяцам лидирует летний период (июнь–август) - максимум в августе 4787 (Московская обл.), 2344 (Кировская обл.). Спад происходит зимой, декабрь–февраль (КО с 1164 по 808, МО с 3732 до 2744).\n",
    " \n",
    " \n",
    " - Влияние стажа водителей на аварийность.\n",
    "\n",
    " Водители со стажем (5–20 лет) чаще теряют бдительность: 5–10 лет стажа — 6 946 ДТП (Московская обл.), 2 137 (Кировская обл.), 10–20 лет стажа — 11 708 ДТП (Московская обл.), 3 456 (Кировская обл.), что требует дополнительного контроля. Снижение числа аварий происходит в категории 20-30 лет: КО 1945 аварий, МО 6511 аварий.\n",
    " \n",
    " \n",
    " - Динамика числа ДТП по годам.\n",
    " \n",
    "Анализ данных показал, что Московская область добилась значительного снижения аварийности: в 2015 году — 92 ДТП на 100 тыс. населения, к 2023 году — 39 (снижение на 58%). В Кировской области уровень аварийности остался стабильно высоким: 117 ДТП на 100 тыс. в 2015 году и 131 в 2023 (рост на 12%).\n",
    "\n",
    "# Рекомендации.\n",
    "\n",
    "1. В связи с тем, что обнаружены пропуски в данных стажа у водителей (14% в Кировской обл., 7% в Московской), необходимо ввести проверку при регистрации ДТП: если участник обозначен как `Водитель`, поле `Стаж` должно быть заполнено. Можно добавить выпадающий список с диапазонами (например, \"менее 1 года\", \"1-5 лет\", \"5-10 лет\" и т. д.), чтобы упростить ввод. \n",
    "\n",
    "2. В данных встречаются разные варианты описания одинаковых условий (например, в столбце с освещенностью `properties_light` \"темное время суток, освещение отсутствует\" и \"темное время суток, освещение не включено\"), что усложняет анализ. Для повышения качества данных рекомендуем, для всех категориальных полей (освещенность, погода, категория ДТП и др.) разработать классификатор с четкими вариантами ответов.\n",
    "\n",
    "3. В столбцах с информацией ближайший адрес `properties_address` и схема ДТП `properties_scheme` выявлены пропуски (адрес 4.6% и 3.0%, схема 7.8% и 3.9%), в этом случае, стоит данные поля сделать обязательными к заполнению, если это необходимо. \n",
    "\n",
    "4. Столбец ближайшие объектах `properties_nearby` хранит пустые списки (19.9% и 23.2%), что требует выяснения причины такого заполнения. "
   ]
  }
 ],
 "metadata": {
  "kernelspec": {
   "display_name": "Python 3 (ipykernel)",
   "language": "python",
   "name": "python3"
  },
  "language_info": {
   "codemirror_mode": {
    "name": "ipython",
    "version": 3
   },
   "file_extension": ".py",
   "mimetype": "text/x-python",
   "name": "python",
   "nbconvert_exporter": "python",
   "pygments_lexer": "ipython3",
   "version": "3.9.7"
  }
 },
 "nbformat": 4,
 "nbformat_minor": 5
}
